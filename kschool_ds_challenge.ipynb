{
 "cells": [
  {
   "cell_type": "markdown",
   "metadata": {},
   "source": [
    "# Amadeus Data Science Challenge"
   ]
  },
  {
   "cell_type": "markdown",
   "metadata": {},
   "source": [
    "## 0.1. Modules"
   ]
  },
  {
   "cell_type": "code",
   "execution_count": 1,
   "metadata": {},
   "outputs": [],
   "source": [
    "# Import modules\n",
    "# ----------------------------------------------------------------------------\n",
    "\n",
    "# System\n",
    "import os\n",
    "\n",
    "# Performance\n",
    "import time\n",
    "from tqdm import tqdm\n",
    "\n",
    "# bz2 Files\n",
    "import bz2\n",
    "\n",
    "# Data wrangling\n",
    "import numpy as np\n",
    "import pandas as pd\n",
    "\n",
    "# Data visualization\n",
    "import seaborn as sns\n",
    "import matplotlib.pyplot as plt"
   ]
  },
  {
   "cell_type": "markdown",
   "metadata": {},
   "source": [
    "## 0.2. Files\n",
    "\n",
    "There are two files for the challenge. Original extension is .bz2.\n",
    "\n",
    "- searches.csv.bz2  $\\rightarrow$  bz2 size: 483 MB  $\\rightarrow$  unziped size: 3.7 GB\n",
    "- bookings.csv.bz2  $\\rightarrow$  bz2 size: 555 MB  $\\rightarrow$  unziped size: 4.2 GB"
   ]
  },
  {
   "cell_type": "markdown",
   "metadata": {},
   "source": [
    "Due to the big size of both files, the approach is extracting a sample from each one to test the code on them, and after that, to execute the scripts on the complete files."
   ]
  },
  {
   "cell_type": "code",
   "execution_count": 2,
   "metadata": {},
   "outputs": [
    {
     "name": "stdout",
     "output_type": "stream",
     "text": [
      "/home/dsc/Data/amadeus_challenge\n"
     ]
    }
   ],
   "source": [
    "# where am I?\n",
    "!pwd"
   ]
  },
  {
   "cell_type": "code",
   "execution_count": 14,
   "metadata": {},
   "outputs": [
    {
     "name": "stdout",
     "output_type": "stream",
     "text": [
      "total 164\n",
      "drwxrwxr-x 5 dsc dsc   4096 nov 22 15:46 .\n",
      "drwxrwxr-x 8 dsc dsc   4096 nov 20 17:16 ..\n",
      "-rw-rw-r-- 1 dsc dsc 139768 nov 22 15:46 amadeus_challenge.ipynb\n",
      "drwxrwxr-x 2 dsc dsc   4096 nov 22 15:45 _data\n",
      "drwxrwxr-x 8 dsc dsc   4096 nov 22 15:31 .git\n",
      "drwxrwxr-x 2 dsc dsc   4096 nov 20 17:24 .ipynb_checkpoints\n",
      "-rw-rw-r-- 1 dsc dsc   2694 nov 20 17:16 README.md\n"
     ]
    }
   ],
   "source": [
    "# what is inside this directory?\n",
    "!ls -al"
   ]
  },
  {
   "cell_type": "code",
   "execution_count": 2,
   "metadata": {},
   "outputs": [],
   "source": [
    "# where is the data?\n",
    "path_searches_bz2 = '/home/dsc/Data/challenge/searches.csv.bz2'\n",
    "path_bookings_bz2 = '/home/dsc/Data/challenge/bookings.csv.bz2'"
   ]
  },
  {
   "cell_type": "code",
   "execution_count": 4,
   "metadata": {},
   "outputs": [
    {
     "name": "stdout",
     "output_type": "stream",
     "text": [
      "\n",
      "bzcat: I/O or other error, bailing out.  Possible reason follows.\n",
      "bzcat: Broken pipe\n",
      "\tInput file = ../challenge/searches.csv.bz2, output file = (stdout)\n",
      "\n",
      "bzcat: I/O or other error, bailing out.  Possible reason follows.\n",
      "bzcat: Broken pipe\n",
      "\tInput file = ../challenge/bookings.csv.bz2, output file = (stdout)\n"
     ]
    }
   ],
   "source": [
    "# we extract two samples of them to see the columns and the beginning of each one\n",
    "!bzcat ../challenge/searches.csv.bz2 | head -100000 > _data/searches_sample.csv\n",
    "!bzcat ../challenge/bookings.csv.bz2 | head -100000 > _data/bookings_sample.csv"
   ]
  },
  {
   "cell_type": "markdown",
   "metadata": {},
   "source": [
    "Once we have extract the samples (.csv format), we compressed again to .bz2 extension to work with them as if they were the complete files. The idea is trying to work in an eviroment as similar as possible to the big files one."
   ]
  },
  {
   "cell_type": "code",
   "execution_count": 12,
   "metadata": {},
   "outputs": [],
   "source": [
    "# we compress each samples to work with a similar extension file.\n",
    "# -k parameter does compression but does not deletes the original file.\n",
    "!bzip2 -k _data/searches_sample.csv\n",
    "!bzip2 -k _data/bookings_sample.csv"
   ]
  },
  {
   "cell_type": "code",
   "execution_count": 18,
   "metadata": {},
   "outputs": [
    {
     "name": "stdout",
     "output_type": "stream",
     "text": [
      "total 66984\n",
      "drwxrwxr-x 2 dsc dsc     4096 nov 22 15:45 .\n",
      "drwxrwxr-x 5 dsc dsc     4096 nov 22 15:50 ..\n",
      "-rw-rw-r-- 1 dsc dsc 42445466 nov 22 15:41 bookings_sample.csv\n",
      "-rw-rw-r-- 1 dsc dsc  5473249 nov 22 15:41 bookings_sample.csv.bz2\n",
      "-rw-rw-r-- 1 dsc dsc 18225475 nov 22 15:41 searches_sample.csv\n",
      "-rw-rw-r-- 1 dsc dsc  2432065 nov 22 15:41 searches_sample.csv.bz2\n"
     ]
    }
   ],
   "source": [
    "# check which files are inside _data directory\n",
    "!ls -al _data"
   ]
  },
  {
   "cell_type": "markdown",
   "metadata": {},
   "source": [
    "After these actions there are four files:\n",
    "\n",
    "- searches.csv.bz2  $\\rightarrow$  bz2 size: 483 MB  $\\rightarrow$  unziped size: 3.7 GB\n",
    "- bookings.csv.bz2  $\\rightarrow$  bz2 size: 555 MB  $\\rightarrow$  unziped size: 4.2 GB\n",
    "        \n",
    "        \n",
    "- searches_sample.csv.bz2  $\\rightarrow$  bz2 size: 2.4 MB  $\\rightarrow$  unziped size: 18.2 MB\n",
    "- bookings_sample.csv.bz2  $\\rightarrow$  bz2 size: 5.5 MB  $\\rightarrow$  unziped size: 42.4 MB\n",
    "\n",
    "Observing this data, it is possible to infer that:\n",
    "\n",
    "- For the same amount of rows, bookings_sample is bigger than searches_sample so we can suppose that the amount of columns or the information contained in one row is heavier in the first file.\n",
    "\n",
    "> bookings_row $>$ searches_row"
   ]
  },
  {
   "cell_type": "markdown",
   "metadata": {},
   "source": [
    "Now that we have all the files that are needed, we can begin with the challange. To make a cleaner and readable code, we are going to assign files' paths to a set of variables."
   ]
  },
  {
   "cell_type": "code",
   "execution_count": 2,
   "metadata": {},
   "outputs": [],
   "source": [
    "# where are the complete .bz2 files?\n",
    "path_searches_bz2 = '/home/dsc/Data/challenge/searches.csv.bz2'\n",
    "path_bookings_bz2 = '/home/dsc/Data/challenge/bookings.csv.bz2'\n",
    "\n",
    "# where are the samples .bz2 files?\n",
    "path_searches_sample_bz2 = '/home/dsc/Data/amadeus_challenge/_data/searches_sample.csv.bz2'\n",
    "path_bookings_sample_bz2 = '/home/dsc/Data/amadeus_challenge/_data/bookings_sample.csv.bz2'"
   ]
  },
  {
   "cell_type": "markdown",
   "metadata": {},
   "source": [
    "# 1. Count the number of lines in python for each file"
   ]
  },
  {
   "cell_type": "markdown",
   "metadata": {},
   "source": [
    "## 1.1. Command line approach\n",
    "\n",
    "In this part we are going to try counting the lines of each file using the command line. To optimize my laptop computational power, I am going to use the command *bzcat*, which can read a .bz2 file without uncompressing it.\n",
    "\n",
    "In first place I am going to test this approach with the samples files, after that, I will test it with the complete files."
   ]
  },
  {
   "cell_type": "code",
   "execution_count": 20,
   "metadata": {},
   "outputs": [
    {
     "name": "stdout",
     "output_type": "stream",
     "text": [
      "/home/dsc/Data/amadeus_challenge\n"
     ]
    }
   ],
   "source": [
    "# where am i?\n",
    "!pwd"
   ]
  },
  {
   "cell_type": "code",
   "execution_count": 21,
   "metadata": {
    "scrolled": true
   },
   "outputs": [
    {
     "name": "stdout",
     "output_type": "stream",
     "text": [
      "total 66984\n",
      "drwxrwxr-x 2 dsc dsc     4096 nov 22 15:45 .\n",
      "drwxrwxr-x 5 dsc dsc     4096 nov 22 16:02 ..\n",
      "-rw-rw-r-- 1 dsc dsc 42445466 nov 22 15:41 bookings_sample.csv\n",
      "-rw-rw-r-- 1 dsc dsc  5473249 nov 22 15:41 bookings_sample.csv.bz2\n",
      "-rw-rw-r-- 1 dsc dsc 18225475 nov 22 15:41 searches_sample.csv\n",
      "-rw-rw-r-- 1 dsc dsc  2432065 nov 22 15:41 searches_sample.csv.bz2\n"
     ]
    }
   ],
   "source": [
    "# list of all _data contents\n",
    "!ls -al _data"
   ]
  },
  {
   "cell_type": "code",
   "execution_count": 22,
   "metadata": {},
   "outputs": [
    {
     "name": "stdout",
     "output_type": "stream",
     "text": [
      "17.4MB [00:02, 6.64MB/s]\n",
      "100000\n"
     ]
    }
   ],
   "source": [
    "# searches sample number of lines without unziping it\n",
    "!bzcat _data/searches_sample.csv.bz2 | tqdm --bytes | wc -l"
   ]
  },
  {
   "cell_type": "markdown",
   "metadata": {},
   "source": [
    "As we have seen in the previous cell, the code works well for one hundred thousand rows, let's then to check it with the complete files."
   ]
  },
  {
   "cell_type": "code",
   "execution_count": 23,
   "metadata": {
    "scrolled": true
   },
   "outputs": [
    {
     "name": "stdout",
     "output_type": "stream",
     "text": [
      "3.44GB [07:56, 7.76MB/s]\n",
      "20390198\n"
     ]
    }
   ],
   "source": [
    "# searches file number of lines without unziping it\n",
    "!bzcat ../challenge/searches.csv.bz2 | tqdm --bytes | wc -l"
   ]
  },
  {
   "cell_type": "code",
   "execution_count": 24,
   "metadata": {},
   "outputs": [
    {
     "name": "stdout",
     "output_type": "stream",
     "text": [
      "3.95GB [07:49, 9.04MB/s]\n",
      "10000011\n"
     ]
    }
   ],
   "source": [
    "# bookings file number of lines without unziping it\n",
    "!bzcat ../challenge/bookings.csv.bz2 | tqdm --bytes | wc -l"
   ]
  },
  {
   "cell_type": "markdown",
   "metadata": {},
   "source": [
    "## 1.2. Pure python approach\n",
    "\n",
    "In the previous section we have seen how to count lines calling the command line from this notebook. As the excersise asks for to make it with python, I am going to develope another snippet of code for doing the same in a more pythonic way.\n",
    "\n",
    "The module bz2 works similar to bzcat cmd command, it lets opening a .bz2 file without unziping it. The approach in this case is to open the file, and counting lines with `.readlines()` bz2 method."
   ]
  },
  {
   "cell_type": "code",
   "execution_count": 22,
   "metadata": {},
   "outputs": [
    {
     "data": {
      "text/plain": [
       "b'Date^Time^TxnCode^OfficeID^Country^Origin^Destination^RoundTrip^NbSegments^Seg1Departure^Seg1Arrival^Seg1Date^Seg1Carrier^Seg1BookingCode^Seg2Departure^Seg2Arrival^Seg2Date^Seg2Carrier^Seg2BookingCode^Seg3Departure^Seg3Arrival^Seg3Date^Seg3Carrier^Seg3BookingCode^Seg4Departure^Seg4Arrival^Seg4Date^Seg4Carrier^Seg4BookingCode^Seg5Departure^Seg5Arrival^Seg5Date^Seg5Carrier^Seg5BookingCode^Seg6Departure^Seg6Arrival^Seg6Date^Seg6Carrier^Seg6BookingCode^From^IsPublishedForNeg^IsFromInternet^IsFromVista^TerminalID^InternetOffice\\n'"
      ]
     },
     "execution_count": 22,
     "metadata": {},
     "output_type": "execute_result"
    }
   ],
   "source": [
    "# open a conection to searches sample with BZ2File class\n",
    "searches_sample = bz2.BZ2File(path_searches_sample_bz2, mode='r')\n",
    "\n",
    "# read the first line\n",
    "searches_sample.readline()"
   ]
  },
  {
   "cell_type": "code",
   "execution_count": 24,
   "metadata": {},
   "outputs": [],
   "source": [
    "# close .bz2 file connection\n",
    "searches_sample.close()"
   ]
  },
  {
   "cell_type": "markdown",
   "metadata": {},
   "source": [
    "In the previous cell I have read the first line of a .bz2 file. To count all the lines from the sample it is possible to code a for loop with a iterable counter."
   ]
  },
  {
   "cell_type": "code",
   "execution_count": 26,
   "metadata": {},
   "outputs": [
    {
     "name": "stdout",
     "output_type": "stream",
     "text": [
      "Searches sample has 100000 files.\n",
      "CPU times: user 2.01 s, sys: 103 ms, total: 2.11 s\n",
      "Wall time: 2.14 s\n"
     ]
    }
   ],
   "source": [
    "%%time\n",
    "# for loop searches sample file\n",
    "with bz2.BZ2File(path_searches_sample_bz2, mode='r') as bz2file:\n",
    "    k = 0\n",
    "    for line in bz2file.readlines():\n",
    "        k += 1\n",
    "        \n",
    "print(f'Searches sample has {k} lines.')"
   ]
  },
  {
   "cell_type": "markdown",
   "metadata": {},
   "source": [
    "Now that we have seen that code works correctly, we execute the same but in the complete files."
   ]
  },
  {
   "cell_type": "code",
   "execution_count": 27,
   "metadata": {},
   "outputs": [
    {
     "name": "stdout",
     "output_type": "stream",
     "text": [
      "Searches complete file has 20390199 files.\n",
      "CPU times: user 7min 10s, sys: 7.4 s, total: 7min 17s\n",
      "Wall time: 7min 18s\n"
     ]
    }
   ],
   "source": [
    "%%time\n",
    "# for loop searches complete file\n",
    "with bz2.BZ2File(path_searches_bz2, mode='r') as bz2file:\n",
    "    k = 0\n",
    "    for line in bz2file.readlines():\n",
    "        k += 1\n",
    "        \n",
    "print(f'Searches complete file has {k} lines.')  "
   ]
  },
  {
   "cell_type": "code",
   "execution_count": 28,
   "metadata": {},
   "outputs": [
    {
     "name": "stdout",
     "output_type": "stream",
     "text": [
      "Bookings complete file has 10000011 lines.\n",
      "CPU times: user 7min 28s, sys: 12.4 s, total: 7min 40s\n",
      "Wall time: 7min 41s\n"
     ]
    }
   ],
   "source": [
    "%%time\n",
    "# for loop searches complete file\n",
    "with bz2.BZ2File(path_bookings_bz2, mode='r') as bz2file:\n",
    "    k = 0\n",
    "    for line in bz2file.readlines():\n",
    "        k += 1\n",
    "        \n",
    "print(f'Bookings complete file has {k} lines.') "
   ]
  },
  {
   "cell_type": "code",
   "execution_count": 29,
   "metadata": {},
   "outputs": [
    {
     "data": {
      "text/plain": [
       "True"
      ]
     },
     "execution_count": 29,
     "metadata": {},
     "output_type": "execute_result"
    }
   ],
   "source": [
    "bz2file.closed"
   ]
  },
  {
   "cell_type": "markdown",
   "metadata": {},
   "source": [
    "Now we can update the data we have about each file:\n",
    "\n",
    "- searches.csv.bz2  $\\rightarrow$  bz2 size: 483 MB  $\\rightarrow$  unziped size: 3.7 GB $\\rightarrow$ rows: 20,390,199\n",
    "- bookings.csv.bz2  $\\rightarrow$  bz2 size: 555 MB  $\\rightarrow$  unziped size: 4.2 GB $\\rightarrow$ rows: 10,000,011"
   ]
  },
  {
   "cell_type": "markdown",
   "metadata": {},
   "source": [
    "# 2. Top 10 arrival airports in the world in 2013 (using the bookings file) \n",
    "\n",
    "Notes:\n",
    "\n",
    "- Arrival airport is the column *arr_port*. It is the IATA code for the airport.\n",
    "\n",
    "- To get the total number of passengers for an airport, you can sum the column *pax*, grouping by *arr_port*. Note that there are negative *pax* values, these correspond to cancelations. So to get the total number of passengers that have actually booked, you should sum including the negatives (that will remove the canceled bookings).\n",
    "\n",
    "- Print top 10 arrival airports in the standard output, including the number of passengers.\n",
    "\n",
    "\n",
    "- *Bonus point: Get the name of the city or airport corresponding to that airport (programatically, we suggest to have a look at GeoBases in Github).*\n",
    "\n",
    "- *Bonus point: Solve this problem using pandas (instead of any other approach).*"
   ]
  },
  {
   "cell_type": "markdown",
   "metadata": {},
   "source": [
    "**Strategy:**\n",
    "\n",
    "With the sample of bookings:\n",
    "\n",
    "- Explore columns\n",
    "- Explore NaNs\n",
    "- Analyze possible duplicates\n",
    "- Define groupby approach\n",
    "\n",
    "With the complete bookings file\n",
    "\n",
    "- ¿It would be possible to replicate previous approach?\n",
    "- If not, exploring another processing way"
   ]
  },
  {
   "cell_type": "markdown",
   "metadata": {},
   "source": [
    "**Columns:**"
   ]
  },
  {
   "cell_type": "code",
   "execution_count": 40,
   "metadata": {},
   "outputs": [],
   "source": [
    "# Open bookings_sample (pandas detects more common compressed extensions) \n",
    "bookings_sample = pd.read_csv(path_bookings_sample_bz2, sep='^')"
   ]
  },
  {
   "cell_type": "code",
   "execution_count": 41,
   "metadata": {},
   "outputs": [
    {
     "data": {
      "text/plain": [
       "(99999, 38)"
      ]
     },
     "execution_count": 41,
     "metadata": {},
     "output_type": "execute_result"
    }
   ],
   "source": [
    "bookings_sample.shape"
   ]
  },
  {
   "cell_type": "code",
   "execution_count": 42,
   "metadata": {},
   "outputs": [
    {
     "data": {
      "text/plain": [
       "Index(['act_date           ', 'source', 'pos_ctry', 'pos_iata', 'pos_oid  ',\n",
       "       'rloc          ', 'cre_date           ', 'duration', 'distance',\n",
       "       'dep_port', 'dep_city', 'dep_ctry', 'arr_port', 'arr_city', 'arr_ctry',\n",
       "       'lst_port', 'lst_city', 'lst_ctry', 'brd_port', 'brd_city', 'brd_ctry',\n",
       "       'off_port', 'off_city', 'off_ctry', 'mkt_port', 'mkt_city', 'mkt_ctry',\n",
       "       'intl', 'route          ', 'carrier', 'bkg_class', 'cab_class',\n",
       "       'brd_time           ', 'off_time           ', 'pax', 'year', 'month',\n",
       "       'oid      '],\n",
       "      dtype='object')"
      ]
     },
     "execution_count": 42,
     "metadata": {},
     "output_type": "execute_result"
    }
   ],
   "source": [
    "# Exploring bookings columns\n",
    "bookings_sample.columns"
   ]
  },
  {
   "cell_type": "markdown",
   "metadata": {},
   "source": [
    "Bookings file has 38 columns, which a portion of them contain white spaces that have to been removed in order to clean column names, and avoid problems working with the data."
   ]
  },
  {
   "cell_type": "code",
   "execution_count": 43,
   "metadata": {},
   "outputs": [
    {
     "data": {
      "text/plain": [
       "Index(['act_date', 'source', 'pos_ctry', 'pos_iata', 'pos_oid', 'rloc',\n",
       "       'cre_date', 'duration', 'distance', 'dep_port', 'dep_city', 'dep_ctry',\n",
       "       'arr_port', 'arr_city', 'arr_ctry', 'lst_port', 'lst_city', 'lst_ctry',\n",
       "       'brd_port', 'brd_city', 'brd_ctry', 'off_port', 'off_city', 'off_ctry',\n",
       "       'mkt_port', 'mkt_city', 'mkt_ctry', 'intl', 'route', 'carrier',\n",
       "       'bkg_class', 'cab_class', 'brd_time', 'off_time', 'pax', 'year',\n",
       "       'month', 'oid'],\n",
       "      dtype='object')"
      ]
     },
     "execution_count": 43,
     "metadata": {},
     "output_type": "execute_result"
    }
   ],
   "source": [
    "# Remove white spaces from column names\n",
    "columns = list(bookings_sample.columns.values)\n",
    "bookings_sample.columns = [column.strip() for column in columns]\n",
    "bookings_sample.columns"
   ]
  },
  {
   "cell_type": "markdown",
   "metadata": {},
   "source": [
    "**NaNs:**\n",
    "\n",
    "I defined a function to analyze the number of NaN values in each column:"
   ]
  },
  {
   "cell_type": "code",
   "execution_count": 46,
   "metadata": {},
   "outputs": [
    {
     "data": {
      "text/html": [
       "<div>\n",
       "<style scoped>\n",
       "    .dataframe tbody tr th:only-of-type {\n",
       "        vertical-align: middle;\n",
       "    }\n",
       "\n",
       "    .dataframe tbody tr th {\n",
       "        vertical-align: top;\n",
       "    }\n",
       "\n",
       "    .dataframe thead th {\n",
       "        text-align: right;\n",
       "    }\n",
       "</style>\n",
       "<table border=\"1\" class=\"dataframe\">\n",
       "  <thead>\n",
       "    <tr style=\"text-align: right;\">\n",
       "      <th></th>\n",
       "      <th>Number of NA</th>\n",
       "      <th>Percent NA</th>\n",
       "    </tr>\n",
       "  </thead>\n",
       "  <tbody>\n",
       "  </tbody>\n",
       "</table>\n",
       "</div>"
      ],
      "text/plain": [
       "Empty DataFrame\n",
       "Columns: [Number of NA, Percent NA]\n",
       "Index: []"
      ]
     },
     "execution_count": 46,
     "metadata": {},
     "output_type": "execute_result"
    }
   ],
   "source": [
    "def assess_NA(data):\n",
    "    \"\"\"\n",
    "    returns a pandas dataframe indicating the total number of NaN values and their porcentage over the total, for each column.\n",
    "    \n",
    "    variables name is allocated in the dataframe's index.\n",
    "    \n",
    "    Parameters\n",
    "    ----------\n",
    "    data: dataframe\n",
    "    \"\"\"\n",
    "    ## pandas series denoting features and the sum of their null values\n",
    "    null_sum = data.isnull().sum() ## instantiate columns for missing data\n",
    "    total = null_sum.sort_values(ascending = False)\n",
    "    percent = (((null_sum / len(data.index)) * 100).round(2)).sort_values(ascending=False)\n",
    "    \n",
    "    ## concatenate along the columns to create the complete dataframe\n",
    "    df_NA = pd.concat([total, percent], axis=1, keys=['Number of NA', 'Percent NA'])\n",
    "    \n",
    "    ## drop rows that don't have any missing data; omit if you want to keep all rows\n",
    "    df_NA = df_NA[(df_NA.T != 0).any()]\n",
    "    \n",
    "    return df_NA\n",
    "\n",
    "df_NA = assess_NA(bookings_sample)\n",
    "df_NA"
   ]
  },
  {
   "cell_type": "markdown",
   "metadata": {},
   "source": [
    "At least in this sample, there is no NaN value."
   ]
  },
  {
   "cell_type": "markdown",
   "metadata": {},
   "source": [
    "**Duplicates:**\n",
    "\n",
    "Due to the huge number of rows, we are going to analyze if exists duplicates in the bookings sample."
   ]
  },
  {
   "cell_type": "code",
   "execution_count": 48,
   "metadata": {},
   "outputs": [
    {
     "data": {
      "text/plain": [
       "(99999, 38)"
      ]
     },
     "execution_count": 48,
     "metadata": {},
     "output_type": "execute_result"
    }
   ],
   "source": [
    "# Drop duplicates\n",
    "dd = bookings_sample.drop_duplicates()\n",
    "dd.shape"
   ]
  },
  {
   "cell_type": "markdown",
   "metadata": {},
   "source": [
    "At least, in this sample there is no duplicates."
   ]
  },
  {
   "cell_type": "markdown",
   "metadata": {},
   "source": [
    "**Groupby approach:**\n",
    "\n",
    "To get the total number of passengers for an airport, you can sum the column *pax*, grouping by *arr_port*. Note that there are negative *pax* values, these correspond to cancelations. So to get the total number of passengers that have actually booked, you should sum including the negatives (that will remove the canceled bookings).\n",
    "\n",
    "- columns: *arr_port* and *pax*\n",
    "- groupby: *arr_port*\n",
    "- metrics: *pax* summatory\n",
    "- order: top 10 airports by number of *pax*"
   ]
  },
  {
   "cell_type": "code",
   "execution_count": 49,
   "metadata": {},
   "outputs": [
    {
     "data": {
      "text/html": [
       "<div>\n",
       "<style scoped>\n",
       "    .dataframe tbody tr th:only-of-type {\n",
       "        vertical-align: middle;\n",
       "    }\n",
       "\n",
       "    .dataframe tbody tr th {\n",
       "        vertical-align: top;\n",
       "    }\n",
       "\n",
       "    .dataframe thead th {\n",
       "        text-align: right;\n",
       "    }\n",
       "</style>\n",
       "<table border=\"1\" class=\"dataframe\">\n",
       "  <thead>\n",
       "    <tr style=\"text-align: right;\">\n",
       "      <th></th>\n",
       "      <th>arr_port</th>\n",
       "      <th>pax</th>\n",
       "    </tr>\n",
       "  </thead>\n",
       "  <tbody>\n",
       "    <tr>\n",
       "      <th>0</th>\n",
       "      <td>LHR</td>\n",
       "      <td>1006</td>\n",
       "    </tr>\n",
       "    <tr>\n",
       "      <th>1</th>\n",
       "      <td>MCO</td>\n",
       "      <td>861</td>\n",
       "    </tr>\n",
       "    <tr>\n",
       "      <th>2</th>\n",
       "      <td>JFK</td>\n",
       "      <td>795</td>\n",
       "    </tr>\n",
       "    <tr>\n",
       "      <th>3</th>\n",
       "      <td>LAX</td>\n",
       "      <td>761</td>\n",
       "    </tr>\n",
       "    <tr>\n",
       "      <th>4</th>\n",
       "      <td>BKK</td>\n",
       "      <td>747</td>\n",
       "    </tr>\n",
       "    <tr>\n",
       "      <th>5</th>\n",
       "      <td>LAS</td>\n",
       "      <td>732</td>\n",
       "    </tr>\n",
       "    <tr>\n",
       "      <th>6</th>\n",
       "      <td>SFO</td>\n",
       "      <td>705</td>\n",
       "    </tr>\n",
       "    <tr>\n",
       "      <th>7</th>\n",
       "      <td>ORD</td>\n",
       "      <td>686</td>\n",
       "    </tr>\n",
       "    <tr>\n",
       "      <th>8</th>\n",
       "      <td>CDG</td>\n",
       "      <td>676</td>\n",
       "    </tr>\n",
       "    <tr>\n",
       "      <th>9</th>\n",
       "      <td>DXB</td>\n",
       "      <td>587</td>\n",
       "    </tr>\n",
       "  </tbody>\n",
       "</table>\n",
       "</div>"
      ],
      "text/plain": [
       "   arr_port   pax\n",
       "0  LHR       1006\n",
       "1  MCO        861\n",
       "2  JFK        795\n",
       "3  LAX        761\n",
       "4  BKK        747\n",
       "5  LAS        732\n",
       "6  SFO        705\n",
       "7  ORD        686\n",
       "8  CDG        676\n",
       "9  DXB        587"
      ]
     },
     "execution_count": 49,
     "metadata": {},
     "output_type": "execute_result"
    }
   ],
   "source": [
    "# Group by airport, sum pax, sort an show top ten results\n",
    "bookings_sample[['arr_port', 'pax']].groupby(['arr_port'])\\\n",
    "                                    .sum()\\\n",
    "                                    .sort_values('pax', ascending=False)\\\n",
    "                                    .reset_index()\\\n",
    "                                    .head(10)"
   ]
  },
  {
   "cell_type": "markdown",
   "metadata": {},
   "source": [
    "Now that we defined the groupby approach, we are going to try executing the same code on the big file."
   ]
  },
  {
   "cell_type": "code",
   "execution_count": null,
   "metadata": {},
   "outputs": [],
   "source": [
    "# Open bookings complete file (pandas detects more common compressed extensions) \n",
    "bookings = pd.read_csv(path_bookings_bz2, sep='^')\n",
    "\n",
    "# Group by airport, sum pax, sort an show top ten results\n",
    "bookings_sample[['arr_port', 'pax']].groupby(['arr_port'])\\\n",
    "                                    .sum()\\\n",
    "                                    .sort_values('pax', ascending=False)\\\n",
    "                                    .reset_index()\\\n",
    "                                    .head(10)\n",
    "\n",
    "# Never ends..."
   ]
  },
  {
   "cell_type": "markdown",
   "metadata": {},
   "source": [
    "**Chunking:**\n",
    "\n",
    "The code either fails with a `MemoryError`, or just never finishes, it seems not being scalable to big files. In order to correct this issue we are going to explore chunking.\n",
    "\n",
    "> *chunking: refers to the process of taking individual pieces of information and grouping them into larger units. By grouping each data point into a larger whole, you can improve the amount of information you can process.*\n",
    "\n",
    "The idea now is to divide the large dataset into smaller pieces (chunks), and then groupby each chunk; ended this process I will carry out a final groupby with all the grouped chunks.\n",
    "\n",
    "As always, the solution will be tested first in the sample file."
   ]
  },
  {
   "cell_type": "code",
   "execution_count": 3,
   "metadata": {},
   "outputs": [
    {
     "data": {
      "text/plain": [
       "pandas.io.parsers.TextFileReader"
      ]
     },
     "execution_count": 3,
     "metadata": {},
     "output_type": "execute_result"
    }
   ],
   "source": [
    "# iterable of chunks\n",
    "iter_chunks = pd.read_csv(path_bookings_sample_bz2, sep='^', chunksize=25000)\n",
    "type(iter_chunks)"
   ]
  },
  {
   "cell_type": "code",
   "execution_count": 3,
   "metadata": {},
   "outputs": [
    {
     "name": "stderr",
     "output_type": "stream",
     "text": [
      "1it [00:02,  2.38s/it]"
     ]
    },
    {
     "name": "stdout",
     "output_type": "stream",
     "text": [
      "25000\n"
     ]
    },
    {
     "name": "stderr",
     "output_type": "stream",
     "text": [
      "2it [00:04,  2.40s/it]"
     ]
    },
    {
     "name": "stdout",
     "output_type": "stream",
     "text": [
      "25000\n"
     ]
    },
    {
     "name": "stderr",
     "output_type": "stream",
     "text": [
      "3it [00:07,  2.41s/it]"
     ]
    },
    {
     "name": "stdout",
     "output_type": "stream",
     "text": [
      "25000\n"
     ]
    },
    {
     "name": "stderr",
     "output_type": "stream",
     "text": [
      "4it [00:09,  2.38s/it]"
     ]
    },
    {
     "name": "stdout",
     "output_type": "stream",
     "text": [
      "24999\n"
     ]
    },
    {
     "name": "stderr",
     "output_type": "stream",
     "text": [
      "\n"
     ]
    }
   ],
   "source": [
    "# iterable of chunks\n",
    "iter_chunks = pd.read_csv(path_bookings_sample_bz2, sep='^', chunksize=25000)\n",
    "\n",
    "# for loop to test chunking, analyzing each chunk length\n",
    "for chunk in tqdm(iter_chunks):\n",
    "    print(len(chunk))"
   ]
  },
  {
   "cell_type": "markdown",
   "metadata": {},
   "source": [
    "For this approach, and according to the sample duplicates study, we assume that no duplicates exist in the big file. "
   ]
  },
  {
   "cell_type": "code",
   "execution_count": 6,
   "metadata": {},
   "outputs": [
    {
     "name": "stderr",
     "output_type": "stream",
     "text": [
      "101it [10:58,  6.52s/it]\n"
     ]
    },
    {
     "data": {
      "text/html": [
       "<div>\n",
       "<style scoped>\n",
       "    .dataframe tbody tr th:only-of-type {\n",
       "        vertical-align: middle;\n",
       "    }\n",
       "\n",
       "    .dataframe tbody tr th {\n",
       "        vertical-align: top;\n",
       "    }\n",
       "\n",
       "    .dataframe thead th {\n",
       "        text-align: right;\n",
       "    }\n",
       "</style>\n",
       "<table border=\"1\" class=\"dataframe\">\n",
       "  <thead>\n",
       "    <tr style=\"text-align: right;\">\n",
       "      <th></th>\n",
       "      <th>arr_port</th>\n",
       "      <th>pax</th>\n",
       "    </tr>\n",
       "  </thead>\n",
       "  <tbody>\n",
       "    <tr>\n",
       "      <th>0</th>\n",
       "      <td>LHR</td>\n",
       "      <td>88809.0</td>\n",
       "    </tr>\n",
       "    <tr>\n",
       "      <th>1</th>\n",
       "      <td>MCO</td>\n",
       "      <td>70930.0</td>\n",
       "    </tr>\n",
       "    <tr>\n",
       "      <th>2</th>\n",
       "      <td>LAX</td>\n",
       "      <td>70530.0</td>\n",
       "    </tr>\n",
       "    <tr>\n",
       "      <th>3</th>\n",
       "      <td>LAS</td>\n",
       "      <td>69630.0</td>\n",
       "    </tr>\n",
       "    <tr>\n",
       "      <th>4</th>\n",
       "      <td>JFK</td>\n",
       "      <td>66270.0</td>\n",
       "    </tr>\n",
       "    <tr>\n",
       "      <th>5</th>\n",
       "      <td>CDG</td>\n",
       "      <td>64490.0</td>\n",
       "    </tr>\n",
       "    <tr>\n",
       "      <th>6</th>\n",
       "      <td>BKK</td>\n",
       "      <td>59460.0</td>\n",
       "    </tr>\n",
       "    <tr>\n",
       "      <th>7</th>\n",
       "      <td>MIA</td>\n",
       "      <td>58150.0</td>\n",
       "    </tr>\n",
       "    <tr>\n",
       "      <th>8</th>\n",
       "      <td>SFO</td>\n",
       "      <td>58000.0</td>\n",
       "    </tr>\n",
       "    <tr>\n",
       "      <th>9</th>\n",
       "      <td>DXB</td>\n",
       "      <td>55590.0</td>\n",
       "    </tr>\n",
       "  </tbody>\n",
       "</table>\n",
       "</div>"
      ],
      "text/plain": [
       "   arr_port      pax\n",
       "0  LHR       88809.0\n",
       "1  MCO       70930.0\n",
       "2  LAX       70530.0\n",
       "3  LAS       69630.0\n",
       "4  JFK       66270.0\n",
       "5  CDG       64490.0\n",
       "6  BKK       59460.0\n",
       "7  MIA       58150.0\n",
       "8  SFO       58000.0\n",
       "9  DXB       55590.0"
      ]
     },
     "execution_count": 6,
     "metadata": {},
     "output_type": "execute_result"
    }
   ],
   "source": [
    "# blank dataframe\n",
    "df_total = pd.DataFrame()\n",
    "\n",
    "# iterator of chunks\n",
    "iter_chunks = pd.read_csv(\n",
    "    path_bookings_bz2,\n",
    "    sep='^',\n",
    "    usecols=['arr_port', 'pax'],\n",
    "    low_memory=False,\n",
    "    chunksize=100000\n",
    ")\n",
    "\n",
    "# for loop\n",
    "for k, chunk in tqdm(enumerate(iter_chunks)):\n",
    "    pax = chunk[['arr_port', 'pax']].copy()\n",
    "    pax['pax'] = pax['pax'].dropna()\n",
    "    pax_groupby = pax[['arr_port', 'pax']].groupby(['arr_port'])\\\n",
    "                                          .sum()\\\n",
    "                                          .reset_index()\n",
    "    \n",
    "    df_total = df_total.append(pax_groupby, ignore_index=True)\n",
    "    \n",
    "    # stop control\n",
    "    # if k == 3:\n",
    "    #     break\n",
    "    \n",
    "top_10 = df_total[['arr_port', 'pax']].groupby(['arr_port'])\\\n",
    "                                      .sum()\\\n",
    "                                      .sort_values('pax', ascending=False)\\\n",
    "                                      .reset_index()\\\n",
    "                                      .head(10)\n",
    "\n",
    "top_10"
   ]
  },
  {
   "cell_type": "markdown",
   "metadata": {},
   "source": [
    "Now we are going to extend the duplicates study to bookings file in all its extension. To see if is going to be duplicates or not, we can iterate n-number of times and analyze it before doing with the complete file."
   ]
  },
  {
   "cell_type": "code",
   "execution_count": 4,
   "metadata": {},
   "outputs": [
    {
     "name": "stderr",
     "output_type": "stream",
     "text": [
      "1it [00:35, 35.98s/it]"
     ]
    },
    {
     "name": "stdout",
     "output_type": "stream",
     "text": [
      "250000\n"
     ]
    },
    {
     "name": "stderr",
     "output_type": "stream",
     "text": [
      "2it [01:21, 38.73s/it]"
     ]
    },
    {
     "name": "stdout",
     "output_type": "stream",
     "text": [
      "500000\n"
     ]
    },
    {
     "name": "stderr",
     "output_type": "stream",
     "text": [
      "3it [02:15, 43.35s/it]"
     ]
    },
    {
     "name": "stdout",
     "output_type": "stream",
     "text": [
      "750000\n"
     ]
    },
    {
     "name": "stderr",
     "output_type": "stream",
     "text": [
      "4it [03:20, 49.82s/it]"
     ]
    },
    {
     "name": "stdout",
     "output_type": "stream",
     "text": [
      "1000000\n"
     ]
    },
    {
     "name": "stderr",
     "output_type": "stream",
     "text": [
      "5it [04:37, 58.17s/it]"
     ]
    },
    {
     "name": "stdout",
     "output_type": "stream",
     "text": [
      "1000000\n"
     ]
    },
    {
     "name": "stderr",
     "output_type": "stream",
     "text": [
      "6it [06:10, 68.52s/it]"
     ]
    },
    {
     "name": "stdout",
     "output_type": "stream",
     "text": [
      "1000000\n"
     ]
    },
    {
     "name": "stderr",
     "output_type": "stream",
     "text": [
      "7it [07:48, 77.30s/it]"
     ]
    },
    {
     "name": "stdout",
     "output_type": "stream",
     "text": [
      "1000000\n"
     ]
    },
    {
     "name": "stderr",
     "output_type": "stream",
     "text": [
      "8it [09:36, 86.43s/it]"
     ]
    },
    {
     "name": "stdout",
     "output_type": "stream",
     "text": [
      "1000000\n"
     ]
    },
    {
     "name": "stderr",
     "output_type": "stream",
     "text": [
      "9it [11:28, 94.35s/it]"
     ]
    },
    {
     "name": "stdout",
     "output_type": "stream",
     "text": [
      "1000000\n"
     ]
    },
    {
     "name": "stderr",
     "output_type": "stream",
     "text": [
      "10it [13:30, 102.69s/it]"
     ]
    },
    {
     "name": "stdout",
     "output_type": "stream",
     "text": [
      "1000000\n",
      "1000000\n"
     ]
    }
   ],
   "source": [
    "# iterator of chunks\n",
    "iter_chunks = pd.read_csv(\n",
    "    path_bookings_bz2,\n",
    "    sep='^',\n",
    "    low_memory=False,\n",
    "    chunksize=250000\n",
    ")\n",
    "\n",
    "# blank dataframe\n",
    "df_total = pd.DataFrame()\n",
    "\n",
    "# chunks loop\n",
    "for k, chunk in tqdm(enumerate(iter_chunks)):\n",
    "    # drop duplicates\n",
    "    dd = chunk.drop_duplicates()\n",
    "    # append each grouped chunk\n",
    "    df_total = df_total.append(dd, ignore_index=True)\n",
    "    # total drop duplicates\n",
    "    bookings_wod = df_total.drop_duplicates()\n",
    "    # shape\n",
    "    print(len(bookings_wod))\n",
    "    \n",
    "    # stop control\n",
    "    if k == 10:\n",
    "        break"
   ]
  },
  {
   "cell_type": "markdown",
   "metadata": {},
   "source": [
    "Analyzing above results, we can infer that the complete bookings file has a lot of duplicates. For ten iterations of 250.000 each one, we have gone through 2.500.000 rows, and deleting duplicates, in the file lefts only 1.000.000 unique rows.\n",
    "\n",
    "So let's assume that all rows from the original file are duplicated, and only exists 1.000.000 unique rows. From now on, we will work with the file without duplicates."
   ]
  },
  {
   "cell_type": "code",
   "execution_count": 9,
   "metadata": {},
   "outputs": [],
   "source": [
    "bookings_wod.to_csv(\n",
    "    '/home/dsc/Data/amadeus_challenge/_data/bookings_ndup.csv.bz2',\n",
    "    sep='^',\n",
    "    index=False,\n",
    "    compression='bz2'\n",
    ")"
   ]
  },
  {
   "cell_type": "code",
   "execution_count": 3,
   "metadata": {},
   "outputs": [
    {
     "name": "stderr",
     "output_type": "stream",
     "text": [
      "10it [01:12,  7.38s/it]\n"
     ]
    },
    {
     "data": {
      "text/html": [
       "<div>\n",
       "<style scoped>\n",
       "    .dataframe tbody tr th:only-of-type {\n",
       "        vertical-align: middle;\n",
       "    }\n",
       "\n",
       "    .dataframe tbody tr th {\n",
       "        vertical-align: top;\n",
       "    }\n",
       "\n",
       "    .dataframe thead th {\n",
       "        text-align: right;\n",
       "    }\n",
       "</style>\n",
       "<table border=\"1\" class=\"dataframe\">\n",
       "  <thead>\n",
       "    <tr style=\"text-align: right;\">\n",
       "      <th></th>\n",
       "      <th>arr_port</th>\n",
       "      <th>pax</th>\n",
       "    </tr>\n",
       "  </thead>\n",
       "  <tbody>\n",
       "    <tr>\n",
       "      <th>0</th>\n",
       "      <td>LHR</td>\n",
       "      <td>8881</td>\n",
       "    </tr>\n",
       "    <tr>\n",
       "      <th>1</th>\n",
       "      <td>MCO</td>\n",
       "      <td>7093</td>\n",
       "    </tr>\n",
       "    <tr>\n",
       "      <th>2</th>\n",
       "      <td>LAX</td>\n",
       "      <td>7053</td>\n",
       "    </tr>\n",
       "    <tr>\n",
       "      <th>3</th>\n",
       "      <td>LAS</td>\n",
       "      <td>6963</td>\n",
       "    </tr>\n",
       "    <tr>\n",
       "      <th>4</th>\n",
       "      <td>JFK</td>\n",
       "      <td>6627</td>\n",
       "    </tr>\n",
       "    <tr>\n",
       "      <th>5</th>\n",
       "      <td>CDG</td>\n",
       "      <td>6449</td>\n",
       "    </tr>\n",
       "    <tr>\n",
       "      <th>6</th>\n",
       "      <td>BKK</td>\n",
       "      <td>5946</td>\n",
       "    </tr>\n",
       "    <tr>\n",
       "      <th>7</th>\n",
       "      <td>MIA</td>\n",
       "      <td>5815</td>\n",
       "    </tr>\n",
       "    <tr>\n",
       "      <th>8</th>\n",
       "      <td>SFO</td>\n",
       "      <td>5800</td>\n",
       "    </tr>\n",
       "    <tr>\n",
       "      <th>9</th>\n",
       "      <td>DXB</td>\n",
       "      <td>5559</td>\n",
       "    </tr>\n",
       "  </tbody>\n",
       "</table>\n",
       "</div>"
      ],
      "text/plain": [
       "   arr_port   pax\n",
       "0  LHR       8881\n",
       "1  MCO       7093\n",
       "2  LAX       7053\n",
       "3  LAS       6963\n",
       "4  JFK       6627\n",
       "5  CDG       6449\n",
       "6  BKK       5946\n",
       "7  MIA       5815\n",
       "8  SFO       5800\n",
       "9  DXB       5559"
      ]
     },
     "execution_count": 3,
     "metadata": {},
     "output_type": "execute_result"
    }
   ],
   "source": [
    "# bookings file without duplicates\n",
    "path_bookings_ndup_bz2 = '/home/dsc/Data/amadeus_challenge/_data/bookings_ndup.csv.bz2'\n",
    "\n",
    "# blank dataframe\n",
    "df_total = pd.DataFrame()\n",
    "\n",
    "# iterator of chunks\n",
    "iter_chunks = pd.read_csv(\n",
    "    path_bookings_ndup_bz2,\n",
    "    sep='^',\n",
    "    usecols=['arr_port', 'pax'],\n",
    "    low_memory=False,\n",
    "    chunksize=100000\n",
    ")\n",
    "\n",
    "# for loop\n",
    "for k, chunk in tqdm(enumerate(iter_chunks)):\n",
    "    pax = chunk[['arr_port', 'pax']].copy()\n",
    "    pax['pax'] = pax['pax'].dropna()\n",
    "    pax_groupby = pax[['arr_port', 'pax']].groupby(['arr_port'])\\\n",
    "                                          .sum()\\\n",
    "                                          .reset_index()\n",
    "    \n",
    "    df_total = df_total.append(pax_groupby, ignore_index=True)\n",
    "    \n",
    "    # stop control\n",
    "    # if k == 3:\n",
    "    #     break\n",
    "    \n",
    "top_10 = df_total[['arr_port', 'pax']].groupby(['arr_port'])\\\n",
    "                                      .sum()\\\n",
    "                                      .sort_values('pax', ascending=False)\\\n",
    "                                      .reset_index()\\\n",
    "                                      .head(10)\n",
    "\n",
    "top_10"
   ]
  },
  {
   "cell_type": "code",
   "execution_count": 10,
   "metadata": {},
   "outputs": [],
   "source": [
    "# where are the complete .bz2 files?\n",
    "path_searches_bz2 = '/home/dsc/Data/challenge/searches.csv.bz2'\n",
    "path_bookings_bz2 = '/home/dsc/Data/challenge/bookings.csv.bz2'\n",
    "\n",
    "# where are the samples .bz2 files?\n",
    "path_searches_sample_bz2 = '/home/dsc/Data/amadeus_challenge/_data/searches_sample.csv.bz2'\n",
    "path_bookings_sample_bz2 = '/home/dsc/Data/amadeus_challenge/_data/bookings_sample.csv.bz2'\n",
    "\n",
    "# where are the .bz2 files without duplicates?\n",
    "path_bookings_ndup_bz2 = '/home/dsc/Data/amadeus_challenge/_data/bookings_ndup.csv.bz2'"
   ]
  },
  {
   "cell_type": "markdown",
   "metadata": {},
   "source": [
    "# 3. Plot the monthly number of searches for flights arriving at Málaga, Madrid or Barcelona\n",
    "\n",
    "Notes:\n",
    "\n",
    "- For the arriving airport, you can use the *Destination* column in the searches file.\n",
    "- Plot a curve for Málaga, another one for Madrid, and another one for Barcelona, in the same figure.\n",
    "- Bonus point: Solving this problem using pandas (instead of any other approach)."
   ]
  },
  {
   "cell_type": "code",
   "execution_count": 12,
   "metadata": {},
   "outputs": [],
   "source": [
    "searches_sample = pd.read_csv(path_searches_sample_bz2, sep='^')"
   ]
  },
  {
   "cell_type": "code",
   "execution_count": 13,
   "metadata": {},
   "outputs": [
    {
     "data": {
      "text/plain": [
       "(99999, 45)"
      ]
     },
     "execution_count": 13,
     "metadata": {},
     "output_type": "execute_result"
    }
   ],
   "source": [
    "searches_sample.shape"
   ]
  },
  {
   "cell_type": "markdown",
   "metadata": {},
   "source": [
    "**Columns:**"
   ]
  },
  {
   "cell_type": "code",
   "execution_count": 14,
   "metadata": {},
   "outputs": [
    {
     "data": {
      "text/plain": [
       "Index(['Date', 'Time', 'TxnCode', 'OfficeID', 'Country', 'Origin',\n",
       "       'Destination', 'RoundTrip', 'NbSegments', 'Seg1Departure',\n",
       "       'Seg1Arrival', 'Seg1Date', 'Seg1Carrier', 'Seg1BookingCode',\n",
       "       'Seg2Departure', 'Seg2Arrival', 'Seg2Date', 'Seg2Carrier',\n",
       "       'Seg2BookingCode', 'Seg3Departure', 'Seg3Arrival', 'Seg3Date',\n",
       "       'Seg3Carrier', 'Seg3BookingCode', 'Seg4Departure', 'Seg4Arrival',\n",
       "       'Seg4Date', 'Seg4Carrier', 'Seg4BookingCode', 'Seg5Departure',\n",
       "       'Seg5Arrival', 'Seg5Date', 'Seg5Carrier', 'Seg5BookingCode',\n",
       "       'Seg6Departure', 'Seg6Arrival', 'Seg6Date', 'Seg6Carrier',\n",
       "       'Seg6BookingCode', 'From', 'IsPublishedForNeg', 'IsFromInternet',\n",
       "       'IsFromVista', 'TerminalID', 'InternetOffice'],\n",
       "      dtype='object')"
      ]
     },
     "execution_count": 14,
     "metadata": {},
     "output_type": "execute_result"
    }
   ],
   "source": [
    "# Exploring searches columns\n",
    "searches_sample.columns"
   ]
  },
  {
   "cell_type": "markdown",
   "metadata": {},
   "source": [
    "Searches file has 45 columns, in comparison with bookings file, column names do not contain whites spaces."
   ]
  },
  {
   "cell_type": "markdown",
   "metadata": {},
   "source": [
    "**NaNs:**"
   ]
  },
  {
   "cell_type": "code",
   "execution_count": 19,
   "metadata": {},
   "outputs": [
    {
     "data": {
      "text/html": [
       "<div>\n",
       "<style scoped>\n",
       "    .dataframe tbody tr th:only-of-type {\n",
       "        vertical-align: middle;\n",
       "    }\n",
       "\n",
       "    .dataframe tbody tr th {\n",
       "        vertical-align: top;\n",
       "    }\n",
       "\n",
       "    .dataframe thead th {\n",
       "        text-align: right;\n",
       "    }\n",
       "</style>\n",
       "<table border=\"1\" class=\"dataframe\">\n",
       "  <thead>\n",
       "    <tr style=\"text-align: right;\">\n",
       "      <th></th>\n",
       "      <th>Number of NA</th>\n",
       "      <th>Percent NA</th>\n",
       "    </tr>\n",
       "  </thead>\n",
       "  <tbody>\n",
       "    <tr>\n",
       "      <th>Country</th>\n",
       "      <td>15</td>\n",
       "      <td>0.02</td>\n",
       "    </tr>\n",
       "    <tr>\n",
       "      <th>From</th>\n",
       "      <td>1093</td>\n",
       "      <td>1.09</td>\n",
       "    </tr>\n",
       "    <tr>\n",
       "      <th>Seg1BookingCode</th>\n",
       "      <td>89222</td>\n",
       "      <td>89.22</td>\n",
       "    </tr>\n",
       "    <tr>\n",
       "      <th>Seg1Carrier</th>\n",
       "      <td>62158</td>\n",
       "      <td>62.16</td>\n",
       "    </tr>\n",
       "    <tr>\n",
       "      <th>Seg1Date</th>\n",
       "      <td>395</td>\n",
       "      <td>0.40</td>\n",
       "    </tr>\n",
       "    <tr>\n",
       "      <th>Seg2Arrival</th>\n",
       "      <td>27859</td>\n",
       "      <td>27.86</td>\n",
       "    </tr>\n",
       "    <tr>\n",
       "      <th>Seg2BookingCode</th>\n",
       "      <td>90727</td>\n",
       "      <td>90.73</td>\n",
       "    </tr>\n",
       "    <tr>\n",
       "      <th>Seg2Carrier</th>\n",
       "      <td>73180</td>\n",
       "      <td>73.18</td>\n",
       "    </tr>\n",
       "    <tr>\n",
       "      <th>Seg2Date</th>\n",
       "      <td>28322</td>\n",
       "      <td>28.32</td>\n",
       "    </tr>\n",
       "    <tr>\n",
       "      <th>Seg2Departure</th>\n",
       "      <td>27859</td>\n",
       "      <td>27.86</td>\n",
       "    </tr>\n",
       "    <tr>\n",
       "      <th>Seg3Arrival</th>\n",
       "      <td>94825</td>\n",
       "      <td>94.83</td>\n",
       "    </tr>\n",
       "    <tr>\n",
       "      <th>Seg3BookingCode</th>\n",
       "      <td>95146</td>\n",
       "      <td>95.15</td>\n",
       "    </tr>\n",
       "    <tr>\n",
       "      <th>Seg3Carrier</th>\n",
       "      <td>95045</td>\n",
       "      <td>95.05</td>\n",
       "    </tr>\n",
       "    <tr>\n",
       "      <th>Seg3Date</th>\n",
       "      <td>94860</td>\n",
       "      <td>94.86</td>\n",
       "    </tr>\n",
       "    <tr>\n",
       "      <th>Seg3Departure</th>\n",
       "      <td>94825</td>\n",
       "      <td>94.83</td>\n",
       "    </tr>\n",
       "    <tr>\n",
       "      <th>Seg4Arrival</th>\n",
       "      <td>95703</td>\n",
       "      <td>95.70</td>\n",
       "    </tr>\n",
       "    <tr>\n",
       "      <th>Seg4BookingCode</th>\n",
       "      <td>95765</td>\n",
       "      <td>95.77</td>\n",
       "    </tr>\n",
       "    <tr>\n",
       "      <th>Seg4Carrier</th>\n",
       "      <td>95734</td>\n",
       "      <td>95.73</td>\n",
       "    </tr>\n",
       "    <tr>\n",
       "      <th>Seg4Date</th>\n",
       "      <td>95729</td>\n",
       "      <td>95.73</td>\n",
       "    </tr>\n",
       "    <tr>\n",
       "      <th>Seg4Departure</th>\n",
       "      <td>95703</td>\n",
       "      <td>95.70</td>\n",
       "    </tr>\n",
       "    <tr>\n",
       "      <th>Seg5Arrival</th>\n",
       "      <td>99159</td>\n",
       "      <td>99.16</td>\n",
       "    </tr>\n",
       "    <tr>\n",
       "      <th>Seg5BookingCode</th>\n",
       "      <td>99175</td>\n",
       "      <td>99.18</td>\n",
       "    </tr>\n",
       "    <tr>\n",
       "      <th>Seg5Carrier</th>\n",
       "      <td>99164</td>\n",
       "      <td>99.16</td>\n",
       "    </tr>\n",
       "    <tr>\n",
       "      <th>Seg5Date</th>\n",
       "      <td>99164</td>\n",
       "      <td>99.16</td>\n",
       "    </tr>\n",
       "    <tr>\n",
       "      <th>Seg5Departure</th>\n",
       "      <td>99159</td>\n",
       "      <td>99.16</td>\n",
       "    </tr>\n",
       "    <tr>\n",
       "      <th>Seg6Arrival</th>\n",
       "      <td>99479</td>\n",
       "      <td>99.48</td>\n",
       "    </tr>\n",
       "    <tr>\n",
       "      <th>Seg6BookingCode</th>\n",
       "      <td>99490</td>\n",
       "      <td>99.49</td>\n",
       "    </tr>\n",
       "    <tr>\n",
       "      <th>Seg6Carrier</th>\n",
       "      <td>99479</td>\n",
       "      <td>99.48</td>\n",
       "    </tr>\n",
       "    <tr>\n",
       "      <th>Seg6Date</th>\n",
       "      <td>99481</td>\n",
       "      <td>99.48</td>\n",
       "    </tr>\n",
       "    <tr>\n",
       "      <th>Seg6Departure</th>\n",
       "      <td>99479</td>\n",
       "      <td>99.48</td>\n",
       "    </tr>\n",
       "  </tbody>\n",
       "</table>\n",
       "</div>"
      ],
      "text/plain": [
       "                 Number of NA  Percent NA\n",
       "Country                    15        0.02\n",
       "From                     1093        1.09\n",
       "Seg1BookingCode         89222       89.22\n",
       "Seg1Carrier             62158       62.16\n",
       "Seg1Date                  395        0.40\n",
       "Seg2Arrival             27859       27.86\n",
       "Seg2BookingCode         90727       90.73\n",
       "Seg2Carrier             73180       73.18\n",
       "Seg2Date                28322       28.32\n",
       "Seg2Departure           27859       27.86\n",
       "Seg3Arrival             94825       94.83\n",
       "Seg3BookingCode         95146       95.15\n",
       "Seg3Carrier             95045       95.05\n",
       "Seg3Date                94860       94.86\n",
       "Seg3Departure           94825       94.83\n",
       "Seg4Arrival             95703       95.70\n",
       "Seg4BookingCode         95765       95.77\n",
       "Seg4Carrier             95734       95.73\n",
       "Seg4Date                95729       95.73\n",
       "Seg4Departure           95703       95.70\n",
       "Seg5Arrival             99159       99.16\n",
       "Seg5BookingCode         99175       99.18\n",
       "Seg5Carrier             99164       99.16\n",
       "Seg5Date                99164       99.16\n",
       "Seg5Departure           99159       99.16\n",
       "Seg6Arrival             99479       99.48\n",
       "Seg6BookingCode         99490       99.49\n",
       "Seg6Carrier             99479       99.48\n",
       "Seg6Date                99481       99.48\n",
       "Seg6Departure           99479       99.48"
      ]
     },
     "execution_count": 19,
     "metadata": {},
     "output_type": "execute_result"
    }
   ],
   "source": [
    "def assess_NA(data):\n",
    "    \"\"\"\n",
    "    returns a pandas dataframe indicating the total number of NaN values and their porcentage over the total, for each column.\n",
    "    \n",
    "    variables name is allocated in the dataframe's index.\n",
    "    \n",
    "    Parameters\n",
    "    ----------\n",
    "    data: dataframe\n",
    "    \"\"\"\n",
    "    ## pandas series denoting features and the sum of their null values\n",
    "    null_sum = data.isnull().sum() ## instantiate columns for missing data\n",
    "    total = null_sum.sort_values(ascending=False)\n",
    "    percent = (((null_sum / len(data.index)) * 100).round(2)).sort_values(ascending=False)\n",
    "    \n",
    "    ## concatenate along the columns to create the complete dataframe\n",
    "    df_NA = pd.concat([total, percent], axis=1, sort=True, keys=['Number of NA', 'Percent NA'])\n",
    "    \n",
    "    ## drop rows that don't have any missing data; omit if you want to keep all rows\n",
    "    df_NA = df_NA[(df_NA.T != 0).any()]\n",
    "    \n",
    "    return df_NA\n",
    "\n",
    "df_NA = assess_NA(searches_sample)\n",
    "df_NA"
   ]
  },
  {
   "cell_type": "markdown",
   "metadata": {},
   "source": [
    "As a result of the previous analysis, it can be seen that exists 22 columns that have over a 90% of NaN values. So my conclusion in this case is remove all them.\n",
    "\n",
    "According to the statement of the excersise, NaN values percentage in some columns, and variables needed to analyze the duplicates in the dataset, we are going to work with the next variables:\n",
    "\n",
    "- Date\n",
    "- Time\n",
    "- OfficeID\n",
    "- TerminalID\n",
    "- Origin\n",
    "- Destination"
   ]
  },
  {
   "cell_type": "markdown",
   "metadata": {},
   "source": [
    "**Duplicates:**\n",
    "\n",
    "Due to the huge number of rows of searches file, and the fact that bookings file was full of duplicates, we are going to analyze if exists duplicates in the bookings file.\n",
    "\n",
    "To optimize the process we are only use de columns indicated in the previous point."
   ]
  },
  {
   "cell_type": "code",
   "execution_count": 3,
   "metadata": {},
   "outputs": [
    {
     "name": "stderr",
     "output_type": "stream",
     "text": [
      "1it [00:10, 10.83s/it]"
     ]
    },
    {
     "name": "stdout",
     "output_type": "stream",
     "text": [
      "249999\n"
     ]
    },
    {
     "name": "stderr",
     "output_type": "stream",
     "text": [
      "2it [00:22, 11.14s/it]"
     ]
    },
    {
     "name": "stdout",
     "output_type": "stream",
     "text": [
      "358999\n"
     ]
    },
    {
     "name": "stderr",
     "output_type": "stream",
     "text": [
      "3it [00:34, 11.47s/it]"
     ]
    },
    {
     "name": "stdout",
     "output_type": "stream",
     "text": [
      "358999\n"
     ]
    },
    {
     "name": "stderr",
     "output_type": "stream",
     "text": [
      "4it [00:47, 11.76s/it]"
     ]
    },
    {
     "name": "stdout",
     "output_type": "stream",
     "text": [
      "358999\n"
     ]
    },
    {
     "name": "stderr",
     "output_type": "stream",
     "text": [
      "5it [00:59, 11.90s/it]"
     ]
    },
    {
     "name": "stdout",
     "output_type": "stream",
     "text": [
      "358999\n"
     ]
    },
    {
     "name": "stderr",
     "output_type": "stream",
     "text": [
      "6it [01:12, 12.18s/it]"
     ]
    },
    {
     "name": "stdout",
     "output_type": "stream",
     "text": [
      "359003\n"
     ]
    },
    {
     "name": "stderr",
     "output_type": "stream",
     "text": [
      "7it [01:25, 12.31s/it]"
     ]
    },
    {
     "name": "stdout",
     "output_type": "stream",
     "text": [
      "359003\n"
     ]
    },
    {
     "name": "stderr",
     "output_type": "stream",
     "text": [
      "8it [01:38, 12.53s/it]"
     ]
    },
    {
     "name": "stdout",
     "output_type": "stream",
     "text": [
      "359003\n"
     ]
    },
    {
     "name": "stderr",
     "output_type": "stream",
     "text": [
      "9it [01:50, 12.54s/it]"
     ]
    },
    {
     "name": "stdout",
     "output_type": "stream",
     "text": [
      "359003\n"
     ]
    },
    {
     "name": "stderr",
     "output_type": "stream",
     "text": [
      "10it [02:03, 12.57s/it]"
     ]
    },
    {
     "name": "stdout",
     "output_type": "stream",
     "text": [
      "359003\n",
      "359003\n"
     ]
    }
   ],
   "source": [
    "# iterator of chunks\n",
    "tp = pd.read_csv(\n",
    "    path_searches_bz2,\n",
    "    sep='^',\n",
    "    chunksize=250000,\n",
    "    usecols=['Date', 'Time', 'OfficeID', 'TerminalID', 'Origin', 'Destination']\n",
    ")\n",
    "\n",
    "# blank dataframe\n",
    "df_total = pd.DataFrame()\n",
    "\n",
    "# chunks loop\n",
    "for k, chunk in tqdm(enumerate(tp)):\n",
    "    # drop duplicates\n",
    "    key_fields = ['Date', 'Time', 'OfficeID', 'TerminalID', 'Origin', 'Destination']\n",
    "    dd = chunk.drop_duplicates(subset=key_fields)\n",
    "    # append each grouped chunk\n",
    "    df_total = df_total.append(dd, ignore_index=True)\n",
    "    # total drop duplicates\n",
    "    df_total = df_total.drop_duplicates(subset=key_fields)\n",
    "    print(len(df_total))\n",
    "    \n",
    "    # stop control\n",
    "    if k == 10:\n",
    "        break"
   ]
  },
  {
   "cell_type": "markdown",
   "metadata": {},
   "source": [
    "As we have seen previously with the bookings file, searches has too a lot of duplicates. From the second iteration, unique rows are almost the same.\n",
    "\n",
    "So let's assume that all rows from the original file are duplicated, and only exists 358.977 unique rows. From now on, we will work with the file without duplicates."
   ]
  },
  {
   "cell_type": "code",
   "execution_count": 4,
   "metadata": {},
   "outputs": [],
   "source": [
    "df_total.to_csv(\n",
    "    '/home/dsc/Data/amadeus_challenge/_data/searches_ndup.csv.bz2',\n",
    "    sep='^',\n",
    "    index=False,\n",
    "    compression='bz2'\n",
    ")"
   ]
  },
  {
   "cell_type": "code",
   "execution_count": 5,
   "metadata": {},
   "outputs": [],
   "source": [
    "# where are the complete .bz2 files?\n",
    "path_searches_bz2 = '/home/dsc/Data/challenge/searches.csv.bz2'\n",
    "path_bookings_bz2 = '/home/dsc/Data/challenge/bookings.csv.bz2'\n",
    "\n",
    "# where are the samples .bz2 files?\n",
    "path_searches_sample_bz2 = '/home/dsc/Data/amadeus_challenge/_data/searches_sample.csv.bz2'\n",
    "path_bookings_sample_bz2 = '/home/dsc/Data/amadeus_challenge/_data/bookings_sample.csv.bz2'\n",
    "\n",
    "# where are the .bz2 files without duplicates?\n",
    "path_searches_ndup_bz2 = '/home/dsc/Data/amadeus_challenge/_data/searches_ndup.csv.bz2'\n",
    "path_bookings_ndup_bz2 = '/home/dsc/Data/amadeus_challenge/_data/bookings_ndup.csv.bz2'"
   ]
  },
  {
   "cell_type": "markdown",
   "metadata": {},
   "source": [
    "**Plot the monthly number of searches for flights arriving at Málaga, Madrid or Barcelona:**"
   ]
  },
  {
   "cell_type": "code",
   "execution_count": 6,
   "metadata": {},
   "outputs": [],
   "source": [
    "searches = pd.read_csv(\n",
    "    path_searches_ndup_bz2,\n",
    "    sep='^'\n",
    ")"
   ]
  },
  {
   "cell_type": "code",
   "execution_count": 7,
   "metadata": {},
   "outputs": [
    {
     "data": {
      "text/html": [
       "<div>\n",
       "<style scoped>\n",
       "    .dataframe tbody tr th:only-of-type {\n",
       "        vertical-align: middle;\n",
       "    }\n",
       "\n",
       "    .dataframe tbody tr th {\n",
       "        vertical-align: top;\n",
       "    }\n",
       "\n",
       "    .dataframe thead th {\n",
       "        text-align: right;\n",
       "    }\n",
       "</style>\n",
       "<table border=\"1\" class=\"dataframe\">\n",
       "  <thead>\n",
       "    <tr style=\"text-align: right;\">\n",
       "      <th></th>\n",
       "      <th>Date</th>\n",
       "      <th>Time</th>\n",
       "      <th>OfficeID</th>\n",
       "      <th>Origin</th>\n",
       "      <th>Destination</th>\n",
       "      <th>TerminalID</th>\n",
       "    </tr>\n",
       "  </thead>\n",
       "  <tbody>\n",
       "    <tr>\n",
       "      <th>0</th>\n",
       "      <td>2013-01-01</td>\n",
       "      <td>20:25:57</td>\n",
       "      <td>624d8c3ac0b3a7ca03e3c167e0f48327</td>\n",
       "      <td>TXL</td>\n",
       "      <td>AUH</td>\n",
       "      <td>d41d8cd98f00b204e9800998ecf8427e</td>\n",
       "    </tr>\n",
       "    <tr>\n",
       "      <th>1</th>\n",
       "      <td>2013-01-01</td>\n",
       "      <td>10:15:33</td>\n",
       "      <td>b0af35b31588dc4ab06d5cf2986e8e02</td>\n",
       "      <td>ATH</td>\n",
       "      <td>MIL</td>\n",
       "      <td>d41d8cd98f00b204e9800998ecf8427e</td>\n",
       "    </tr>\n",
       "    <tr>\n",
       "      <th>2</th>\n",
       "      <td>2013-01-01</td>\n",
       "      <td>18:04:49</td>\n",
       "      <td>3561a60621de06ab1badc8ca55699ef3</td>\n",
       "      <td>ICT</td>\n",
       "      <td>SFO</td>\n",
       "      <td>d41d8cd98f00b204e9800998ecf8427e</td>\n",
       "    </tr>\n",
       "    <tr>\n",
       "      <th>3</th>\n",
       "      <td>2013-01-01</td>\n",
       "      <td>17:42:40</td>\n",
       "      <td>1864e5e8013d9414150e91d26b6a558b</td>\n",
       "      <td>RNB</td>\n",
       "      <td>ARN</td>\n",
       "      <td>d41d8cd98f00b204e9800998ecf8427e</td>\n",
       "    </tr>\n",
       "    <tr>\n",
       "      <th>4</th>\n",
       "      <td>2013-01-01</td>\n",
       "      <td>17:48:29</td>\n",
       "      <td>1ec336348f44207d2e0027dc3a68c118</td>\n",
       "      <td>OSL</td>\n",
       "      <td>MAD</td>\n",
       "      <td>d41d8cd98f00b204e9800998ecf8427e</td>\n",
       "    </tr>\n",
       "  </tbody>\n",
       "</table>\n",
       "</div>"
      ],
      "text/plain": [
       "         Date      Time                          OfficeID Origin Destination  \\\n",
       "0  2013-01-01  20:25:57  624d8c3ac0b3a7ca03e3c167e0f48327    TXL         AUH   \n",
       "1  2013-01-01  10:15:33  b0af35b31588dc4ab06d5cf2986e8e02    ATH         MIL   \n",
       "2  2013-01-01  18:04:49  3561a60621de06ab1badc8ca55699ef3    ICT         SFO   \n",
       "3  2013-01-01  17:42:40  1864e5e8013d9414150e91d26b6a558b    RNB         ARN   \n",
       "4  2013-01-01  17:48:29  1ec336348f44207d2e0027dc3a68c118    OSL         MAD   \n",
       "\n",
       "                         TerminalID  \n",
       "0  d41d8cd98f00b204e9800998ecf8427e  \n",
       "1  d41d8cd98f00b204e9800998ecf8427e  \n",
       "2  d41d8cd98f00b204e9800998ecf8427e  \n",
       "3  d41d8cd98f00b204e9800998ecf8427e  \n",
       "4  d41d8cd98f00b204e9800998ecf8427e  "
      ]
     },
     "execution_count": 7,
     "metadata": {},
     "output_type": "execute_result"
    }
   ],
   "source": [
    "searches.head()"
   ]
  },
  {
   "cell_type": "code",
   "execution_count": 13,
   "metadata": {},
   "outputs": [],
   "source": [
    "# date column slicing\n",
    "searches['Date_ym'] = searches['Date'].str[:7] \n",
    "\n",
    "# filter cities\n",
    "searches_groupby = searches[searches['Destination'].isin(['MAD', 'BCN', 'AGP'])].copy()\n",
    "\n",
    "# groupby\n",
    "searches_groupby = searches_groupby[['Date_ym', 'Destination']]\\\n",
    "                   .groupby(['Date_ym', 'Destination'])['Destination']\\\n",
    "                   .agg(['count'])\\\n",
    "                   .reset_index()\n",
    "\n",
    "# rename count column\n",
    "searches_groupby.rename(columns = {'count': 'n_flights'}, inplace=True)"
   ]
  },
  {
   "cell_type": "code",
   "execution_count": 14,
   "metadata": {},
   "outputs": [
    {
     "data": {
      "image/png": "[encoded data removed]",
      "text/plain": [
       "<Figure size 1008x360 with 1 Axes>"
      ]
     },
     "metadata": {
      "needs_background": "light"
     },
     "output_type": "display_data"
    }
   ],
   "source": [
    "# Plot monthly searches for each city\n",
    "fig, ax1 = plt.subplots(figsize=(14,5))\n",
    "sns.lineplot(ax=ax1, data=searches_groupby, x='Date_ym', y='n_flights', hue='Destination');"
   ]
  },
  {
   "cell_type": "markdown",
   "metadata": {},
   "source": [
    "# 4. Match searches with bookings\n",
    "\n",
    "Notes:\n",
    "\n",
    "- For every search in the searches file, find out whether the search ended up in a booking or not (using the info in the bookings file). For instance, search and booking origin and destination should match.\n",
    "- For the bookings file, origin and destination are the columns *dep_port* and *arr_port*, respectively.\n",
    "- Generate a .csv file with the search data, and an additional field, containing 1 if the search ended up in a booking, and 0 otherwise.\n",
    "\n",
    "The most important part of this excersise is to define a set of common keys between the two files, in order to joining the information and try to infer if a search ended as a booking.\n",
    "\n",
    "- Searches columns: 'Date', 'Origin', 'Destination'\n",
    "- Bookings columns: 'act_date', 'dep_port', 'arr_port'\n",
    "\n",
    "\n",
    "\n"
   ]
  },
  {
   "cell_type": "code",
   "execution_count": 3,
   "metadata": {},
   "outputs": [],
   "source": [
    "# where are the complete .bz2 files?\n",
    "path_searches_bz2 = '/home/dsc/Data/challenge/searches.csv.bz2'\n",
    "path_bookings_bz2 = '/home/dsc/Data/challenge/bookings.csv.bz2'\n",
    "\n",
    "# where are the samples .bz2 files?\n",
    "path_searches_sample_bz2 = '/home/dsc/Data/amadeus_challenge/_data/searches_sample.csv.bz2'\n",
    "path_bookings_sample_bz2 = '/home/dsc/Data/amadeus_challenge/_data/bookings_sample.csv.bz2'\n",
    "\n",
    "# where are the .bz2 files without duplicates?\n",
    "path_searches_ndup_bz2 = '/home/dsc/Data/amadeus_challenge/_data/searches_ndup.csv.bz2'\n",
    "path_bookings_ndup_bz2 = '/home/dsc/Data/amadeus_challenge/_data/bookings_ndup.csv.bz2'"
   ]
  },
  {
   "cell_type": "markdown",
   "metadata": {},
   "source": [
    "We read the files without duplicates:"
   ]
  },
  {
   "cell_type": "code",
   "execution_count": 104,
   "metadata": {},
   "outputs": [],
   "source": [
    "# searches\n",
    "searches = pd.read_csv(\n",
    "    path_searches_ndup_bz2,\n",
    "    sep='^'\n",
    ")\n",
    "\n",
    "#bookings\n",
    "bookings = pd.read_csv(\n",
    "    path_bookings_ndup_bz2,\n",
    "    sep='^'\n",
    ")"
   ]
  },
  {
   "cell_type": "markdown",
   "metadata": {},
   "source": [
    "We show a sample of each file to analyze if it is necessary to carry out any data cleansing before the joining."
   ]
  },
  {
   "cell_type": "code",
   "execution_count": 105,
   "metadata": {},
   "outputs": [
    {
     "data": {
      "text/html": [
       "<div>\n",
       "<style scoped>\n",
       "    .dataframe tbody tr th:only-of-type {\n",
       "        vertical-align: middle;\n",
       "    }\n",
       "\n",
       "    .dataframe tbody tr th {\n",
       "        vertical-align: top;\n",
       "    }\n",
       "\n",
       "    .dataframe thead th {\n",
       "        text-align: right;\n",
       "    }\n",
       "</style>\n",
       "<table border=\"1\" class=\"dataframe\">\n",
       "  <thead>\n",
       "    <tr style=\"text-align: right;\">\n",
       "      <th></th>\n",
       "      <th>Date</th>\n",
       "      <th>Time</th>\n",
       "      <th>OfficeID</th>\n",
       "      <th>Origin</th>\n",
       "      <th>Destination</th>\n",
       "      <th>TerminalID</th>\n",
       "    </tr>\n",
       "  </thead>\n",
       "  <tbody>\n",
       "    <tr>\n",
       "      <th>27104</th>\n",
       "      <td>2013-01-28</td>\n",
       "      <td>22:30:09</td>\n",
       "      <td>3561a60621de06ab1badc8ca55699ef3</td>\n",
       "      <td>AVP</td>\n",
       "      <td>DFW</td>\n",
       "      <td>d41d8cd98f00b204e9800998ecf8427e</td>\n",
       "    </tr>\n",
       "    <tr>\n",
       "      <th>353696</th>\n",
       "      <td>2013-12-20</td>\n",
       "      <td>01:31:26</td>\n",
       "      <td>0f3722dbc868fe983bf79895c40dec98</td>\n",
       "      <td>DEL</td>\n",
       "      <td>HYD</td>\n",
       "      <td>d41d8cd98f00b204e9800998ecf8427e</td>\n",
       "    </tr>\n",
       "    <tr>\n",
       "      <th>112083</th>\n",
       "      <td>2013-04-23</td>\n",
       "      <td>10:59:59</td>\n",
       "      <td>b927c9d7f26be67222348993774e029d</td>\n",
       "      <td>FRA</td>\n",
       "      <td>BEY</td>\n",
       "      <td>d41d8cd98f00b204e9800998ecf8427e</td>\n",
       "    </tr>\n",
       "    <tr>\n",
       "      <th>283997</th>\n",
       "      <td>2013-10-11</td>\n",
       "      <td>11:16:57</td>\n",
       "      <td>a9366b68d5cbaa9526de6308cd398363</td>\n",
       "      <td>YYC</td>\n",
       "      <td>AMS</td>\n",
       "      <td>d41d8cd98f00b204e9800998ecf8427e</td>\n",
       "    </tr>\n",
       "    <tr>\n",
       "      <th>241913</th>\n",
       "      <td>2013-08-30</td>\n",
       "      <td>09:04:21</td>\n",
       "      <td>86173b5000dadf6506520bd7787e16cd</td>\n",
       "      <td>MOW</td>\n",
       "      <td>SXB</td>\n",
       "      <td>d41d8cd98f00b204e9800998ecf8427e</td>\n",
       "    </tr>\n",
       "  </tbody>\n",
       "</table>\n",
       "</div>"
      ],
      "text/plain": [
       "              Date      Time                          OfficeID Origin  \\\n",
       "27104   2013-01-28  22:30:09  3561a60621de06ab1badc8ca55699ef3    AVP   \n",
       "353696  2013-12-20  01:31:26  0f3722dbc868fe983bf79895c40dec98    DEL   \n",
       "112083  2013-04-23  10:59:59  b927c9d7f26be67222348993774e029d    FRA   \n",
       "283997  2013-10-11  11:16:57  a9366b68d5cbaa9526de6308cd398363    YYC   \n",
       "241913  2013-08-30  09:04:21  86173b5000dadf6506520bd7787e16cd    MOW   \n",
       "\n",
       "       Destination                        TerminalID  \n",
       "27104          DFW  d41d8cd98f00b204e9800998ecf8427e  \n",
       "353696         HYD  d41d8cd98f00b204e9800998ecf8427e  \n",
       "112083         BEY  d41d8cd98f00b204e9800998ecf8427e  \n",
       "283997         AMS  d41d8cd98f00b204e9800998ecf8427e  \n",
       "241913         SXB  d41d8cd98f00b204e9800998ecf8427e  "
      ]
     },
     "execution_count": 105,
     "metadata": {},
     "output_type": "execute_result"
    }
   ],
   "source": [
    "searches.sample(5)"
   ]
  },
  {
   "cell_type": "code",
   "execution_count": 106,
   "metadata": {},
   "outputs": [
    {
     "data": {
      "text/plain": [
       "Index(['Date', 'Time', 'OfficeID', 'Origin', 'Destination', 'TerminalID'], dtype='object')"
      ]
     },
     "execution_count": 106,
     "metadata": {},
     "output_type": "execute_result"
    }
   ],
   "source": [
    "searches.columns"
   ]
  },
  {
   "cell_type": "code",
   "execution_count": 107,
   "metadata": {},
   "outputs": [
    {
     "data": {
      "text/html": [
       "<div>\n",
       "<style scoped>\n",
       "    .dataframe tbody tr th:only-of-type {\n",
       "        vertical-align: middle;\n",
       "    }\n",
       "\n",
       "    .dataframe tbody tr th {\n",
       "        vertical-align: top;\n",
       "    }\n",
       "\n",
       "    .dataframe thead th {\n",
       "        text-align: right;\n",
       "    }\n",
       "</style>\n",
       "<table border=\"1\" class=\"dataframe\">\n",
       "  <thead>\n",
       "    <tr style=\"text-align: right;\">\n",
       "      <th></th>\n",
       "      <th>Unnamed: 0</th>\n",
       "      <th>act_date</th>\n",
       "      <th>source</th>\n",
       "      <th>pos_ctry</th>\n",
       "      <th>pos_iata</th>\n",
       "      <th>pos_oid</th>\n",
       "      <th>rloc</th>\n",
       "      <th>cre_date</th>\n",
       "      <th>duration</th>\n",
       "      <th>distance</th>\n",
       "      <th>...</th>\n",
       "      <th>route</th>\n",
       "      <th>carrier</th>\n",
       "      <th>bkg_class</th>\n",
       "      <th>cab_class</th>\n",
       "      <th>brd_time</th>\n",
       "      <th>off_time</th>\n",
       "      <th>pax</th>\n",
       "      <th>year</th>\n",
       "      <th>month</th>\n",
       "      <th>oid</th>\n",
       "    </tr>\n",
       "  </thead>\n",
       "  <tbody>\n",
       "    <tr>\n",
       "      <th>98375</th>\n",
       "      <td>98375</td>\n",
       "      <td>2013-01-09 00:00:00</td>\n",
       "      <td>1A</td>\n",
       "      <td>HU</td>\n",
       "      <td>158e31fca9cb56ce398636ea5e828aa0</td>\n",
       "      <td>64ce75d30dd3576120f2d08ac7b62944</td>\n",
       "      <td>a7a7755fdebbf197f6cfa8e5ae1668bd</td>\n",
       "      <td>2013-01-09 00:00:00</td>\n",
       "      <td>44579</td>\n",
       "      <td>0</td>\n",
       "      <td>...</td>\n",
       "      <td>PEKTXLBUD</td>\n",
       "      <td>RF</td>\n",
       "      <td>S</td>\n",
       "      <td>Y</td>\n",
       "      <td>2013-01-23 14:00:00</td>\n",
       "      <td>2013-01-23 23:13:09</td>\n",
       "      <td>1</td>\n",
       "      <td>2013</td>\n",
       "      <td>1</td>\n",
       "      <td>NULL</td>\n",
       "    </tr>\n",
       "    <tr>\n",
       "      <th>443312</th>\n",
       "      <td>443312</td>\n",
       "      <td>2013-05-13 00:00:00</td>\n",
       "      <td>1A</td>\n",
       "      <td>FR</td>\n",
       "      <td>d463c7a79ef8afc366d453fc1bd7a208</td>\n",
       "      <td>8f59cbd27b4cedae91f7cc31d585888d</td>\n",
       "      <td>bd552e10ba34affe2bc041f82ac31770</td>\n",
       "      <td>2013-05-13 00:00:00</td>\n",
       "      <td>828</td>\n",
       "      <td>0</td>\n",
       "      <td>...</td>\n",
       "      <td>ORYTLS</td>\n",
       "      <td>KP</td>\n",
       "      <td>S</td>\n",
       "      <td>Y</td>\n",
       "      <td>2013-05-14 21:35:00</td>\n",
       "      <td>2013-05-14 23:03:20</td>\n",
       "      <td>1</td>\n",
       "      <td>2013</td>\n",
       "      <td>5</td>\n",
       "      <td>PARHX28AS</td>\n",
       "    </tr>\n",
       "    <tr>\n",
       "      <th>717736</th>\n",
       "      <td>717736</td>\n",
       "      <td>2013-04-26 00:00:00</td>\n",
       "      <td>1S</td>\n",
       "      <td>US</td>\n",
       "      <td>7e22f22aff7bd6231f3362bcfe4bc267</td>\n",
       "      <td>511e02785b75341fc3d0e6857e650426</td>\n",
       "      <td>5a42ec04c92f769f49ce98a66b176dc7</td>\n",
       "      <td>2013-04-26 00:00:00</td>\n",
       "      <td>6022</td>\n",
       "      <td>0</td>\n",
       "      <td>...</td>\n",
       "      <td>AUSIAHMIA</td>\n",
       "      <td>FK</td>\n",
       "      <td>K</td>\n",
       "      <td>Y</td>\n",
       "      <td>2013-07-10 08:37:00</td>\n",
       "      <td>2013-07-10 14:30:18</td>\n",
       "      <td>2</td>\n",
       "      <td>2013</td>\n",
       "      <td>4</td>\n",
       "      <td>NULL</td>\n",
       "    </tr>\n",
       "    <tr>\n",
       "      <th>678382</th>\n",
       "      <td>678382</td>\n",
       "      <td>2013-03-28 00:00:00</td>\n",
       "      <td>1S</td>\n",
       "      <td>US</td>\n",
       "      <td>2cdd51c65d45032a7bc4997d7012c5b6</td>\n",
       "      <td>1fd96278f9b47b907ff95b8af0a380c2</td>\n",
       "      <td>e634417f9ee401d2b4c17541eb025ce5</td>\n",
       "      <td>2013-03-28 00:00:00</td>\n",
       "      <td>3185</td>\n",
       "      <td>0</td>\n",
       "      <td>...</td>\n",
       "      <td>AZODTWELM</td>\n",
       "      <td>NV</td>\n",
       "      <td>V</td>\n",
       "      <td>Y</td>\n",
       "      <td>2013-04-19 08:00:00</td>\n",
       "      <td>2013-04-19 11:25:33</td>\n",
       "      <td>1</td>\n",
       "      <td>2013</td>\n",
       "      <td>3</td>\n",
       "      <td>NULL</td>\n",
       "    </tr>\n",
       "    <tr>\n",
       "      <th>428968</th>\n",
       "      <td>428968</td>\n",
       "      <td>2013-03-18 00:00:00</td>\n",
       "      <td>1A</td>\n",
       "      <td>FR</td>\n",
       "      <td>cfaadd5e838749aa39d9fce27e7c4861</td>\n",
       "      <td>f6590de1ba577e503a1e816781b46487</td>\n",
       "      <td>73814c3e45c77427a0dd4f36ac5c1a2d</td>\n",
       "      <td>2013-03-18 00:00:00</td>\n",
       "      <td>1633</td>\n",
       "      <td>0</td>\n",
       "      <td>...</td>\n",
       "      <td>ETZLYSPUF</td>\n",
       "      <td>KX</td>\n",
       "      <td>A</td>\n",
       "      <td>F</td>\n",
       "      <td>2013-04-03 18:00:00</td>\n",
       "      <td>2013-04-03 21:18:51</td>\n",
       "      <td>1</td>\n",
       "      <td>2013</td>\n",
       "      <td>3</td>\n",
       "      <td>EBUWL2200</td>\n",
       "    </tr>\n",
       "  </tbody>\n",
       "</table>\n",
       "<p>5 rows × 39 columns</p>\n",
       "</div>"
      ],
      "text/plain": [
       "        Unnamed: 0  act_date             source  pos_ctry  \\\n",
       "98375        98375  2013-01-09 00:00:00  1A      HU         \n",
       "443312      443312  2013-05-13 00:00:00  1A      FR         \n",
       "717736      717736  2013-04-26 00:00:00  1S      US         \n",
       "678382      678382  2013-03-28 00:00:00  1S      US         \n",
       "428968      428968  2013-03-18 00:00:00  1A      FR         \n",
       "\n",
       "                                pos_iata                         pos_oid    \\\n",
       "98375   158e31fca9cb56ce398636ea5e828aa0  64ce75d30dd3576120f2d08ac7b62944   \n",
       "443312  d463c7a79ef8afc366d453fc1bd7a208  8f59cbd27b4cedae91f7cc31d585888d   \n",
       "717736  7e22f22aff7bd6231f3362bcfe4bc267  511e02785b75341fc3d0e6857e650426   \n",
       "678382  2cdd51c65d45032a7bc4997d7012c5b6  1fd96278f9b47b907ff95b8af0a380c2   \n",
       "428968  cfaadd5e838749aa39d9fce27e7c4861  f6590de1ba577e503a1e816781b46487   \n",
       "\n",
       "                          rloc            cre_date             duration  \\\n",
       "98375   a7a7755fdebbf197f6cfa8e5ae1668bd  2013-01-09 00:00:00     44579   \n",
       "443312  bd552e10ba34affe2bc041f82ac31770  2013-05-13 00:00:00       828   \n",
       "717736  5a42ec04c92f769f49ce98a66b176dc7  2013-04-26 00:00:00      6022   \n",
       "678382  e634417f9ee401d2b4c17541eb025ce5  2013-03-28 00:00:00      3185   \n",
       "428968  73814c3e45c77427a0dd4f36ac5c1a2d  2013-03-18 00:00:00      1633   \n",
       "\n",
       "        distance    ...      route           carrier  bkg_class  cab_class  \\\n",
       "98375          0    ...         PEKTXLBUD         RF  S          Y           \n",
       "443312         0    ...      ORYTLS               KP  S          Y           \n",
       "717736         0    ...      AUSIAHMIA            FK  K          Y           \n",
       "678382         0    ...      AZODTWELM            NV  V          Y           \n",
       "428968         0    ...         ETZLYSPUF         KX  A          F           \n",
       "\n",
       "        brd_time             off_time            pax  year month  oid        \n",
       "98375   2013-01-23 14:00:00  2013-01-23 23:13:09   1  2013     1  NULL       \n",
       "443312  2013-05-14 21:35:00  2013-05-14 23:03:20   1  2013     5  PARHX28AS  \n",
       "717736  2013-07-10 08:37:00  2013-07-10 14:30:18   2  2013     4  NULL       \n",
       "678382  2013-04-19 08:00:00  2013-04-19 11:25:33   1  2013     3  NULL       \n",
       "428968  2013-04-03 18:00:00  2013-04-03 21:18:51   1  2013     3  EBUWL2200  \n",
       "\n",
       "[5 rows x 39 columns]"
      ]
     },
     "execution_count": 107,
     "metadata": {},
     "output_type": "execute_result"
    }
   ],
   "source": [
    "bookings.sample(5)"
   ]
  },
  {
   "cell_type": "code",
   "execution_count": 108,
   "metadata": {},
   "outputs": [
    {
     "data": {
      "text/plain": [
       "Index(['Unnamed: 0', 'act_date           ', 'source', 'pos_ctry', 'pos_iata',\n",
       "       'pos_oid  ', 'rloc          ', 'cre_date           ', 'duration',\n",
       "       'distance', 'dep_port', 'dep_city', 'dep_ctry', 'arr_port', 'arr_city',\n",
       "       'arr_ctry', 'lst_port', 'lst_city', 'lst_ctry', 'brd_port', 'brd_city',\n",
       "       'brd_ctry', 'off_port', 'off_city', 'off_ctry', 'mkt_port', 'mkt_city',\n",
       "       'mkt_ctry', 'intl', 'route          ', 'carrier', 'bkg_class',\n",
       "       'cab_class', 'brd_time           ', 'off_time           ', 'pax',\n",
       "       'year', 'month', 'oid      '],\n",
       "      dtype='object')"
      ]
     },
     "execution_count": 108,
     "metadata": {},
     "output_type": "execute_result"
    }
   ],
   "source": [
    "bookings.columns"
   ]
  },
  {
   "cell_type": "code",
   "execution_count": 109,
   "metadata": {},
   "outputs": [
    {
     "data": {
      "text/plain": [
       "Index(['Unnamed: 0', 'act_date', 'source', 'pos_ctry', 'pos_iata', 'pos_oid',\n",
       "       'rloc', 'cre_date', 'duration', 'distance', 'dep_port', 'dep_city',\n",
       "       'dep_ctry', 'arr_port', 'arr_city', 'arr_ctry', 'lst_port', 'lst_city',\n",
       "       'lst_ctry', 'brd_port', 'brd_city', 'brd_ctry', 'off_port', 'off_city',\n",
       "       'off_ctry', 'mkt_port', 'mkt_city', 'mkt_ctry', 'intl', 'route',\n",
       "       'carrier', 'bkg_class', 'cab_class', 'brd_time', 'off_time', 'pax',\n",
       "       'year', 'month', 'oid'],\n",
       "      dtype='object')"
      ]
     },
     "execution_count": 109,
     "metadata": {},
     "output_type": "execute_result"
    }
   ],
   "source": [
    "bookings.columns = bookings.columns.str.strip()\n",
    "bookings.columns"
   ]
  },
  {
   "cell_type": "code",
   "execution_count": 110,
   "metadata": {},
   "outputs": [],
   "source": [
    "bookings = bookings[['act_date', 'dep_port', 'arr_port']].copy()"
   ]
  },
  {
   "cell_type": "code",
   "execution_count": 111,
   "metadata": {},
   "outputs": [
    {
     "data": {
      "text/html": [
       "<div>\n",
       "<style scoped>\n",
       "    .dataframe tbody tr th:only-of-type {\n",
       "        vertical-align: middle;\n",
       "    }\n",
       "\n",
       "    .dataframe tbody tr th {\n",
       "        vertical-align: top;\n",
       "    }\n",
       "\n",
       "    .dataframe thead th {\n",
       "        text-align: right;\n",
       "    }\n",
       "</style>\n",
       "<table border=\"1\" class=\"dataframe\">\n",
       "  <thead>\n",
       "    <tr style=\"text-align: right;\">\n",
       "      <th></th>\n",
       "      <th>act_date</th>\n",
       "      <th>dep_port</th>\n",
       "      <th>arr_port</th>\n",
       "    </tr>\n",
       "  </thead>\n",
       "  <tbody>\n",
       "    <tr>\n",
       "      <th>909199</th>\n",
       "      <td>2013-02-11 00:00:00</td>\n",
       "      <td>CMH</td>\n",
       "      <td>SLC</td>\n",
       "    </tr>\n",
       "    <tr>\n",
       "      <th>905307</th>\n",
       "      <td>2013-04-01 00:00:00</td>\n",
       "      <td>YWG</td>\n",
       "      <td>MIA</td>\n",
       "    </tr>\n",
       "    <tr>\n",
       "      <th>577831</th>\n",
       "      <td>2013-07-26 00:00:00</td>\n",
       "      <td>SLC</td>\n",
       "      <td>PDX</td>\n",
       "    </tr>\n",
       "    <tr>\n",
       "      <th>235421</th>\n",
       "      <td>2013-01-28 00:00:00</td>\n",
       "      <td>GVA</td>\n",
       "      <td>SIN</td>\n",
       "    </tr>\n",
       "    <tr>\n",
       "      <th>280347</th>\n",
       "      <td>2013-01-04 00:00:00</td>\n",
       "      <td>PHX</td>\n",
       "      <td>SAN</td>\n",
       "    </tr>\n",
       "  </tbody>\n",
       "</table>\n",
       "</div>"
      ],
      "text/plain": [
       "                   act_date  dep_port  arr_port\n",
       "909199  2013-02-11 00:00:00  CMH       SLC     \n",
       "905307  2013-04-01 00:00:00  YWG       MIA     \n",
       "577831  2013-07-26 00:00:00  SLC       PDX     \n",
       "235421  2013-01-28 00:00:00  GVA       SIN     \n",
       "280347  2013-01-04 00:00:00  PHX       SAN     "
      ]
     },
     "execution_count": 111,
     "metadata": {},
     "output_type": "execute_result"
    }
   ],
   "source": [
    "bookings.sample(5)"
   ]
  },
  {
   "cell_type": "markdown",
   "metadata": {},
   "source": [
    "Before the join, it is necessary to modify de *act_date* format to be equal as *Date* in searches file."
   ]
  },
  {
   "cell_type": "code",
   "execution_count": 112,
   "metadata": {},
   "outputs": [],
   "source": [
    "bookings['act_date'] = bookings['act_date'].str[:10]\n",
    "searches['Date'] = searches['Date'].str[:10]"
   ]
  },
  {
   "cell_type": "code",
   "execution_count": 113,
   "metadata": {},
   "outputs": [
    {
     "data": {
      "text/html": [
       "<div>\n",
       "<style scoped>\n",
       "    .dataframe tbody tr th:only-of-type {\n",
       "        vertical-align: middle;\n",
       "    }\n",
       "\n",
       "    .dataframe tbody tr th {\n",
       "        vertical-align: top;\n",
       "    }\n",
       "\n",
       "    .dataframe thead th {\n",
       "        text-align: right;\n",
       "    }\n",
       "</style>\n",
       "<table border=\"1\" class=\"dataframe\">\n",
       "  <thead>\n",
       "    <tr style=\"text-align: right;\">\n",
       "      <th></th>\n",
       "      <th>Date</th>\n",
       "      <th>Time</th>\n",
       "      <th>OfficeID</th>\n",
       "      <th>Origin</th>\n",
       "      <th>Destination</th>\n",
       "      <th>TerminalID</th>\n",
       "    </tr>\n",
       "  </thead>\n",
       "  <tbody>\n",
       "    <tr>\n",
       "      <th>0</th>\n",
       "      <td>2013-01-01</td>\n",
       "      <td>20:25:57</td>\n",
       "      <td>624d8c3ac0b3a7ca03e3c167e0f48327</td>\n",
       "      <td>TXL</td>\n",
       "      <td>AUH</td>\n",
       "      <td>d41d8cd98f00b204e9800998ecf8427e</td>\n",
       "    </tr>\n",
       "    <tr>\n",
       "      <th>1</th>\n",
       "      <td>2013-01-01</td>\n",
       "      <td>10:15:33</td>\n",
       "      <td>b0af35b31588dc4ab06d5cf2986e8e02</td>\n",
       "      <td>ATH</td>\n",
       "      <td>MIL</td>\n",
       "      <td>d41d8cd98f00b204e9800998ecf8427e</td>\n",
       "    </tr>\n",
       "    <tr>\n",
       "      <th>2</th>\n",
       "      <td>2013-01-01</td>\n",
       "      <td>18:04:49</td>\n",
       "      <td>3561a60621de06ab1badc8ca55699ef3</td>\n",
       "      <td>ICT</td>\n",
       "      <td>SFO</td>\n",
       "      <td>d41d8cd98f00b204e9800998ecf8427e</td>\n",
       "    </tr>\n",
       "    <tr>\n",
       "      <th>3</th>\n",
       "      <td>2013-01-01</td>\n",
       "      <td>17:42:40</td>\n",
       "      <td>1864e5e8013d9414150e91d26b6a558b</td>\n",
       "      <td>RNB</td>\n",
       "      <td>ARN</td>\n",
       "      <td>d41d8cd98f00b204e9800998ecf8427e</td>\n",
       "    </tr>\n",
       "    <tr>\n",
       "      <th>4</th>\n",
       "      <td>2013-01-01</td>\n",
       "      <td>17:48:29</td>\n",
       "      <td>1ec336348f44207d2e0027dc3a68c118</td>\n",
       "      <td>OSL</td>\n",
       "      <td>MAD</td>\n",
       "      <td>d41d8cd98f00b204e9800998ecf8427e</td>\n",
       "    </tr>\n",
       "  </tbody>\n",
       "</table>\n",
       "</div>"
      ],
      "text/plain": [
       "         Date      Time                          OfficeID Origin Destination  \\\n",
       "0  2013-01-01  20:25:57  624d8c3ac0b3a7ca03e3c167e0f48327    TXL         AUH   \n",
       "1  2013-01-01  10:15:33  b0af35b31588dc4ab06d5cf2986e8e02    ATH         MIL   \n",
       "2  2013-01-01  18:04:49  3561a60621de06ab1badc8ca55699ef3    ICT         SFO   \n",
       "3  2013-01-01  17:42:40  1864e5e8013d9414150e91d26b6a558b    RNB         ARN   \n",
       "4  2013-01-01  17:48:29  1ec336348f44207d2e0027dc3a68c118    OSL         MAD   \n",
       "\n",
       "                         TerminalID  \n",
       "0  d41d8cd98f00b204e9800998ecf8427e  \n",
       "1  d41d8cd98f00b204e9800998ecf8427e  \n",
       "2  d41d8cd98f00b204e9800998ecf8427e  \n",
       "3  d41d8cd98f00b204e9800998ecf8427e  \n",
       "4  d41d8cd98f00b204e9800998ecf8427e  "
      ]
     },
     "execution_count": 113,
     "metadata": {},
     "output_type": "execute_result"
    }
   ],
   "source": [
    "searches.head()"
   ]
  },
  {
   "cell_type": "code",
   "execution_count": 114,
   "metadata": {},
   "outputs": [
    {
     "data": {
      "text/html": [
       "<div>\n",
       "<style scoped>\n",
       "    .dataframe tbody tr th:only-of-type {\n",
       "        vertical-align: middle;\n",
       "    }\n",
       "\n",
       "    .dataframe tbody tr th {\n",
       "        vertical-align: top;\n",
       "    }\n",
       "\n",
       "    .dataframe thead th {\n",
       "        text-align: right;\n",
       "    }\n",
       "</style>\n",
       "<table border=\"1\" class=\"dataframe\">\n",
       "  <thead>\n",
       "    <tr style=\"text-align: right;\">\n",
       "      <th></th>\n",
       "      <th>act_date</th>\n",
       "      <th>dep_port</th>\n",
       "      <th>arr_port</th>\n",
       "    </tr>\n",
       "  </thead>\n",
       "  <tbody>\n",
       "    <tr>\n",
       "      <th>0</th>\n",
       "      <td>2013-03-05</td>\n",
       "      <td>ZRH</td>\n",
       "      <td>LHR</td>\n",
       "    </tr>\n",
       "    <tr>\n",
       "      <th>1</th>\n",
       "      <td>2013-03-26</td>\n",
       "      <td>SAL</td>\n",
       "      <td>CLT</td>\n",
       "    </tr>\n",
       "    <tr>\n",
       "      <th>2</th>\n",
       "      <td>2013-03-26</td>\n",
       "      <td>SAL</td>\n",
       "      <td>CLT</td>\n",
       "    </tr>\n",
       "    <tr>\n",
       "      <th>3</th>\n",
       "      <td>2013-03-26</td>\n",
       "      <td>AKL</td>\n",
       "      <td>SVO</td>\n",
       "    </tr>\n",
       "    <tr>\n",
       "      <th>4</th>\n",
       "      <td>2013-03-26</td>\n",
       "      <td>AKL</td>\n",
       "      <td>SVO</td>\n",
       "    </tr>\n",
       "  </tbody>\n",
       "</table>\n",
       "</div>"
      ],
      "text/plain": [
       "     act_date  dep_port  arr_port\n",
       "0  2013-03-05  ZRH       LHR     \n",
       "1  2013-03-26  SAL       CLT     \n",
       "2  2013-03-26  SAL       CLT     \n",
       "3  2013-03-26  AKL       SVO     \n",
       "4  2013-03-26  AKL       SVO     "
      ]
     },
     "execution_count": 114,
     "metadata": {},
     "output_type": "execute_result"
    }
   ],
   "source": [
    "bookings.head()"
   ]
  },
  {
   "cell_type": "markdown",
   "metadata": {},
   "source": [
    "Another data cleansing good practice is to strip the variables from each file."
   ]
  },
  {
   "cell_type": "code",
   "execution_count": 115,
   "metadata": {},
   "outputs": [],
   "source": [
    "# searches\n",
    "for column in searches.columns:\n",
    "    searches[column] = searches[column].str.strip()\n",
    "    \n",
    "# bookings\n",
    "for column in bookings.columns:\n",
    "    bookings[column] = bookings[column].str.strip()"
   ]
  },
  {
   "cell_type": "markdown",
   "metadata": {},
   "source": [
    "Once we have the data cleaned, we can proceed with the join."
   ]
  },
  {
   "cell_type": "code",
   "execution_count": 116,
   "metadata": {},
   "outputs": [
    {
     "data": {
      "text/html": [
       "<div>\n",
       "<style scoped>\n",
       "    .dataframe tbody tr th:only-of-type {\n",
       "        vertical-align: middle;\n",
       "    }\n",
       "\n",
       "    .dataframe tbody tr th {\n",
       "        vertical-align: top;\n",
       "    }\n",
       "\n",
       "    .dataframe thead th {\n",
       "        text-align: right;\n",
       "    }\n",
       "</style>\n",
       "<table border=\"1\" class=\"dataframe\">\n",
       "  <thead>\n",
       "    <tr style=\"text-align: right;\">\n",
       "      <th></th>\n",
       "      <th>Date</th>\n",
       "      <th>Time</th>\n",
       "      <th>OfficeID</th>\n",
       "      <th>Origin</th>\n",
       "      <th>Destination</th>\n",
       "      <th>TerminalID</th>\n",
       "    </tr>\n",
       "  </thead>\n",
       "  <tbody>\n",
       "    <tr>\n",
       "      <th>0</th>\n",
       "      <td>2013-01-01</td>\n",
       "      <td>20:25:57</td>\n",
       "      <td>624d8c3ac0b3a7ca03e3c167e0f48327</td>\n",
       "      <td>TXL</td>\n",
       "      <td>AUH</td>\n",
       "      <td>d41d8cd98f00b204e9800998ecf8427e</td>\n",
       "    </tr>\n",
       "    <tr>\n",
       "      <th>1</th>\n",
       "      <td>2013-01-01</td>\n",
       "      <td>10:15:33</td>\n",
       "      <td>b0af35b31588dc4ab06d5cf2986e8e02</td>\n",
       "      <td>ATH</td>\n",
       "      <td>MIL</td>\n",
       "      <td>d41d8cd98f00b204e9800998ecf8427e</td>\n",
       "    </tr>\n",
       "    <tr>\n",
       "      <th>2</th>\n",
       "      <td>2013-01-01</td>\n",
       "      <td>18:04:49</td>\n",
       "      <td>3561a60621de06ab1badc8ca55699ef3</td>\n",
       "      <td>ICT</td>\n",
       "      <td>SFO</td>\n",
       "      <td>d41d8cd98f00b204e9800998ecf8427e</td>\n",
       "    </tr>\n",
       "    <tr>\n",
       "      <th>3</th>\n",
       "      <td>2013-01-01</td>\n",
       "      <td>17:42:40</td>\n",
       "      <td>1864e5e8013d9414150e91d26b6a558b</td>\n",
       "      <td>RNB</td>\n",
       "      <td>ARN</td>\n",
       "      <td>d41d8cd98f00b204e9800998ecf8427e</td>\n",
       "    </tr>\n",
       "    <tr>\n",
       "      <th>4</th>\n",
       "      <td>2013-01-01</td>\n",
       "      <td>17:48:29</td>\n",
       "      <td>1ec336348f44207d2e0027dc3a68c118</td>\n",
       "      <td>OSL</td>\n",
       "      <td>MAD</td>\n",
       "      <td>d41d8cd98f00b204e9800998ecf8427e</td>\n",
       "    </tr>\n",
       "  </tbody>\n",
       "</table>\n",
       "</div>"
      ],
      "text/plain": [
       "         Date      Time                          OfficeID Origin Destination  \\\n",
       "0  2013-01-01  20:25:57  624d8c3ac0b3a7ca03e3c167e0f48327    TXL         AUH   \n",
       "1  2013-01-01  10:15:33  b0af35b31588dc4ab06d5cf2986e8e02    ATH         MIL   \n",
       "2  2013-01-01  18:04:49  3561a60621de06ab1badc8ca55699ef3    ICT         SFO   \n",
       "3  2013-01-01  17:42:40  1864e5e8013d9414150e91d26b6a558b    RNB         ARN   \n",
       "4  2013-01-01  17:48:29  1ec336348f44207d2e0027dc3a68c118    OSL         MAD   \n",
       "\n",
       "                         TerminalID  \n",
       "0  d41d8cd98f00b204e9800998ecf8427e  \n",
       "1  d41d8cd98f00b204e9800998ecf8427e  \n",
       "2  d41d8cd98f00b204e9800998ecf8427e  \n",
       "3  d41d8cd98f00b204e9800998ecf8427e  \n",
       "4  d41d8cd98f00b204e9800998ecf8427e  "
      ]
     },
     "execution_count": 116,
     "metadata": {},
     "output_type": "execute_result"
    }
   ],
   "source": [
    "searches.head()"
   ]
  },
  {
   "cell_type": "code",
   "execution_count": 117,
   "metadata": {},
   "outputs": [
    {
     "data": {
      "text/plain": [
       "(359003, 6)"
      ]
     },
     "execution_count": 117,
     "metadata": {},
     "output_type": "execute_result"
    }
   ],
   "source": [
    "searches.shape"
   ]
  },
  {
   "cell_type": "code",
   "execution_count": 118,
   "metadata": {},
   "outputs": [
    {
     "data": {
      "text/html": [
       "<div>\n",
       "<style scoped>\n",
       "    .dataframe tbody tr th:only-of-type {\n",
       "        vertical-align: middle;\n",
       "    }\n",
       "\n",
       "    .dataframe tbody tr th {\n",
       "        vertical-align: top;\n",
       "    }\n",
       "\n",
       "    .dataframe thead th {\n",
       "        text-align: right;\n",
       "    }\n",
       "</style>\n",
       "<table border=\"1\" class=\"dataframe\">\n",
       "  <thead>\n",
       "    <tr style=\"text-align: right;\">\n",
       "      <th></th>\n",
       "      <th>act_date</th>\n",
       "      <th>dep_port</th>\n",
       "      <th>arr_port</th>\n",
       "      <th>booked</th>\n",
       "    </tr>\n",
       "  </thead>\n",
       "  <tbody>\n",
       "    <tr>\n",
       "      <th>0</th>\n",
       "      <td>2013-03-05</td>\n",
       "      <td>ZRH</td>\n",
       "      <td>LHR</td>\n",
       "      <td>1</td>\n",
       "    </tr>\n",
       "    <tr>\n",
       "      <th>1</th>\n",
       "      <td>2013-03-26</td>\n",
       "      <td>SAL</td>\n",
       "      <td>CLT</td>\n",
       "      <td>1</td>\n",
       "    </tr>\n",
       "    <tr>\n",
       "      <th>2</th>\n",
       "      <td>2013-03-26</td>\n",
       "      <td>SAL</td>\n",
       "      <td>CLT</td>\n",
       "      <td>1</td>\n",
       "    </tr>\n",
       "    <tr>\n",
       "      <th>3</th>\n",
       "      <td>2013-03-26</td>\n",
       "      <td>AKL</td>\n",
       "      <td>SVO</td>\n",
       "      <td>1</td>\n",
       "    </tr>\n",
       "    <tr>\n",
       "      <th>4</th>\n",
       "      <td>2013-03-26</td>\n",
       "      <td>AKL</td>\n",
       "      <td>SVO</td>\n",
       "      <td>1</td>\n",
       "    </tr>\n",
       "  </tbody>\n",
       "</table>\n",
       "</div>"
      ],
      "text/plain": [
       "     act_date dep_port arr_port  booked\n",
       "0  2013-03-05      ZRH      LHR       1\n",
       "1  2013-03-26      SAL      CLT       1\n",
       "2  2013-03-26      SAL      CLT       1\n",
       "3  2013-03-26      AKL      SVO       1\n",
       "4  2013-03-26      AKL      SVO       1"
      ]
     },
     "execution_count": 118,
     "metadata": {},
     "output_type": "execute_result"
    }
   ],
   "source": [
    "bookings['booked'] = 1\n",
    "bookings.head()"
   ]
  },
  {
   "cell_type": "code",
   "execution_count": 119,
   "metadata": {},
   "outputs": [
    {
     "data": {
      "text/plain": [
       "(1000000, 4)"
      ]
     },
     "execution_count": 119,
     "metadata": {},
     "output_type": "execute_result"
    }
   ],
   "source": [
    "bookings.shape"
   ]
  },
  {
   "cell_type": "code",
   "execution_count": 120,
   "metadata": {},
   "outputs": [],
   "source": [
    "conversion_rate = pd.merge(\n",
    "    searches,\n",
    "    bookings,\n",
    "    how='left',\n",
    "    left_on=['Date', 'Origin', 'Destination'],\n",
    "    right_on=['act_date', 'dep_port', 'arr_port']\n",
    ")"
   ]
  },
  {
   "cell_type": "code",
   "execution_count": 121,
   "metadata": {},
   "outputs": [
    {
     "data": {
      "text/plain": [
       "(386514, 10)"
      ]
     },
     "execution_count": 121,
     "metadata": {},
     "output_type": "execute_result"
    }
   ],
   "source": [
    "conversion_rate['booked'] = conversion_rate['booked'].fillna(0)\n",
    "conversion_rate.shape"
   ]
  },
  {
   "cell_type": "code",
   "execution_count": 123,
   "metadata": {},
   "outputs": [
    {
     "data": {
      "text/html": [
       "<div>\n",
       "<style scoped>\n",
       "    .dataframe tbody tr th:only-of-type {\n",
       "        vertical-align: middle;\n",
       "    }\n",
       "\n",
       "    .dataframe tbody tr th {\n",
       "        vertical-align: top;\n",
       "    }\n",
       "\n",
       "    .dataframe thead th {\n",
       "        text-align: right;\n",
       "    }\n",
       "</style>\n",
       "<table border=\"1\" class=\"dataframe\">\n",
       "  <thead>\n",
       "    <tr style=\"text-align: right;\">\n",
       "      <th></th>\n",
       "      <th>Date</th>\n",
       "      <th>Time</th>\n",
       "      <th>OfficeID</th>\n",
       "      <th>Origin</th>\n",
       "      <th>Destination</th>\n",
       "      <th>TerminalID</th>\n",
       "      <th>act_date</th>\n",
       "      <th>dep_port</th>\n",
       "      <th>arr_port</th>\n",
       "      <th>booked</th>\n",
       "    </tr>\n",
       "  </thead>\n",
       "  <tbody>\n",
       "    <tr>\n",
       "      <th>71106</th>\n",
       "      <td>2013-03-02</td>\n",
       "      <td>12:56:57</td>\n",
       "      <td>8e26311e3f5deaceabc65406c823f84d</td>\n",
       "      <td>PMI</td>\n",
       "      <td>CGN</td>\n",
       "      <td>d41d8cd98f00b204e9800998ecf8427e</td>\n",
       "      <td>NaN</td>\n",
       "      <td>NaN</td>\n",
       "      <td>NaN</td>\n",
       "      <td>0.0</td>\n",
       "    </tr>\n",
       "    <tr>\n",
       "      <th>100984</th>\n",
       "      <td>2013-03-27</td>\n",
       "      <td>19:49:35</td>\n",
       "      <td>a9366b68d5cbaa9526de6308cd398363</td>\n",
       "      <td>YYZ</td>\n",
       "      <td>LAS</td>\n",
       "      <td>d41d8cd98f00b204e9800998ecf8427e</td>\n",
       "      <td>2013-03-27</td>\n",
       "      <td>YYZ</td>\n",
       "      <td>LAS</td>\n",
       "      <td>1.0</td>\n",
       "    </tr>\n",
       "    <tr>\n",
       "      <th>38413</th>\n",
       "      <td>2013-01-30</td>\n",
       "      <td>09:27:43</td>\n",
       "      <td>cde651a5a26c500683d124b39261f279</td>\n",
       "      <td>ALF</td>\n",
       "      <td>TOS</td>\n",
       "      <td>d41d8cd98f00b204e9800998ecf8427e</td>\n",
       "      <td>NaN</td>\n",
       "      <td>NaN</td>\n",
       "      <td>NaN</td>\n",
       "      <td>0.0</td>\n",
       "    </tr>\n",
       "    <tr>\n",
       "      <th>385661</th>\n",
       "      <td>2013-12-25</td>\n",
       "      <td>16:53:23</td>\n",
       "      <td>236cbf458f79dbb9d5e9c9430438c3db</td>\n",
       "      <td>SEA</td>\n",
       "      <td>LHR</td>\n",
       "      <td>d41d8cd98f00b204e9800998ecf8427e</td>\n",
       "      <td>NaN</td>\n",
       "      <td>NaN</td>\n",
       "      <td>NaN</td>\n",
       "      <td>0.0</td>\n",
       "    </tr>\n",
       "    <tr>\n",
       "      <th>268139</th>\n",
       "      <td>2013-09-02</td>\n",
       "      <td>18:05:17</td>\n",
       "      <td>2e8cfaa74d8a924e79cbd54d38cbbed8</td>\n",
       "      <td>WRO</td>\n",
       "      <td>FRL</td>\n",
       "      <td>d41d8cd98f00b204e9800998ecf8427e</td>\n",
       "      <td>NaN</td>\n",
       "      <td>NaN</td>\n",
       "      <td>NaN</td>\n",
       "      <td>0.0</td>\n",
       "    </tr>\n",
       "  </tbody>\n",
       "</table>\n",
       "</div>"
      ],
      "text/plain": [
       "              Date      Time                          OfficeID Origin  \\\n",
       "71106   2013-03-02  12:56:57  8e26311e3f5deaceabc65406c823f84d    PMI   \n",
       "100984  2013-03-27  19:49:35  a9366b68d5cbaa9526de6308cd398363    YYZ   \n",
       "38413   2013-01-30  09:27:43  cde651a5a26c500683d124b39261f279    ALF   \n",
       "385661  2013-12-25  16:53:23  236cbf458f79dbb9d5e9c9430438c3db    SEA   \n",
       "268139  2013-09-02  18:05:17  2e8cfaa74d8a924e79cbd54d38cbbed8    WRO   \n",
       "\n",
       "       Destination                        TerminalID    act_date dep_port  \\\n",
       "71106          CGN  d41d8cd98f00b204e9800998ecf8427e         NaN      NaN   \n",
       "100984         LAS  d41d8cd98f00b204e9800998ecf8427e  2013-03-27      YYZ   \n",
       "38413          TOS  d41d8cd98f00b204e9800998ecf8427e         NaN      NaN   \n",
       "385661         LHR  d41d8cd98f00b204e9800998ecf8427e         NaN      NaN   \n",
       "268139         FRL  d41d8cd98f00b204e9800998ecf8427e         NaN      NaN   \n",
       "\n",
       "       arr_port  booked  \n",
       "71106       NaN     0.0  \n",
       "100984      LAS     1.0  \n",
       "38413       NaN     0.0  \n",
       "385661      NaN     0.0  \n",
       "268139      NaN     0.0  "
      ]
     },
     "execution_count": 123,
     "metadata": {},
     "output_type": "execute_result"
    }
   ],
   "source": [
    "conversion_rate.sample(5)"
   ]
  },
  {
   "cell_type": "code",
   "execution_count": 125,
   "metadata": {},
   "outputs": [
    {
     "data": {
      "text/plain": [
       "(45025, 10)"
      ]
     },
     "execution_count": 125,
     "metadata": {},
     "output_type": "execute_result"
    }
   ],
   "source": [
    "conversion_rate[conversion_rate['booked']==1].shape"
   ]
  },
  {
   "cell_type": "code",
   "execution_count": 131,
   "metadata": {},
   "outputs": [
    {
     "data": {
      "text/html": [
       "<div>\n",
       "<style scoped>\n",
       "    .dataframe tbody tr th:only-of-type {\n",
       "        vertical-align: middle;\n",
       "    }\n",
       "\n",
       "    .dataframe tbody tr th {\n",
       "        vertical-align: top;\n",
       "    }\n",
       "\n",
       "    .dataframe thead th {\n",
       "        text-align: right;\n",
       "    }\n",
       "</style>\n",
       "<table border=\"1\" class=\"dataframe\">\n",
       "  <thead>\n",
       "    <tr style=\"text-align: right;\">\n",
       "      <th></th>\n",
       "      <th>Date</th>\n",
       "      <th>Time</th>\n",
       "      <th>OfficeID</th>\n",
       "      <th>Origin</th>\n",
       "      <th>Destination</th>\n",
       "      <th>TerminalID</th>\n",
       "    </tr>\n",
       "  </thead>\n",
       "  <tbody>\n",
       "    <tr>\n",
       "      <th>85676</th>\n",
       "      <td>2013-03-27</td>\n",
       "      <td>19:49:35</td>\n",
       "      <td>a9366b68d5cbaa9526de6308cd398363</td>\n",
       "      <td>YYZ</td>\n",
       "      <td>LAS</td>\n",
       "      <td>d41d8cd98f00b204e9800998ecf8427e</td>\n",
       "    </tr>\n",
       "  </tbody>\n",
       "</table>\n",
       "</div>"
      ],
      "text/plain": [
       "             Date      Time                          OfficeID Origin  \\\n",
       "85676  2013-03-27  19:49:35  a9366b68d5cbaa9526de6308cd398363    YYZ   \n",
       "\n",
       "      Destination                        TerminalID  \n",
       "85676         LAS  d41d8cd98f00b204e9800998ecf8427e  "
      ]
     },
     "execution_count": 131,
     "metadata": {},
     "output_type": "execute_result"
    }
   ],
   "source": [
    "searches[(searches['Date']=='2013-03-27')&(searches['Origin']=='YYZ')&(searches['Destination']=='LAS')]"
   ]
  },
  {
   "cell_type": "code",
   "execution_count": 132,
   "metadata": {},
   "outputs": [
    {
     "data": {
      "text/html": [
       "<div>\n",
       "<style scoped>\n",
       "    .dataframe tbody tr th:only-of-type {\n",
       "        vertical-align: middle;\n",
       "    }\n",
       "\n",
       "    .dataframe tbody tr th {\n",
       "        vertical-align: top;\n",
       "    }\n",
       "\n",
       "    .dataframe thead th {\n",
       "        text-align: right;\n",
       "    }\n",
       "</style>\n",
       "<table border=\"1\" class=\"dataframe\">\n",
       "  <thead>\n",
       "    <tr style=\"text-align: right;\">\n",
       "      <th></th>\n",
       "      <th>act_date</th>\n",
       "      <th>dep_port</th>\n",
       "      <th>arr_port</th>\n",
       "      <th>booked</th>\n",
       "    </tr>\n",
       "  </thead>\n",
       "  <tbody>\n",
       "    <tr>\n",
       "      <th>136150</th>\n",
       "      <td>2013-03-27</td>\n",
       "      <td>YYZ</td>\n",
       "      <td>LAS</td>\n",
       "      <td>1</td>\n",
       "    </tr>\n",
       "  </tbody>\n",
       "</table>\n",
       "</div>"
      ],
      "text/plain": [
       "          act_date dep_port arr_port  booked\n",
       "136150  2013-03-27      YYZ      LAS       1"
      ]
     },
     "execution_count": 132,
     "metadata": {},
     "output_type": "execute_result"
    }
   ],
   "source": [
    "bookings[(bookings['act_date']=='2013-03-27')&(bookings['dep_port']=='YYZ')&(bookings['arr_port']=='LAS')]"
   ]
  },
  {
   "cell_type": "code",
   "execution_count": null,
   "metadata": {},
   "outputs": [],
   "source": [
    "print(f'The conversion rate of searches into bookings is {len(searches)}%.')"
   ]
  }
 ],
 "metadata": {
  "kernelspec": {
   "display_name": "Python 3",
   "language": "python",
   "name": "python3"
  },
  "language_info": {
   "codemirror_mode": {
    "name": "ipython",
    "version": 3
   },
   "file_extension": ".py",
   "mimetype": "text/x-python",
   "name": "python",
   "nbconvert_exporter": "python",
   "pygments_lexer": "ipython3",
   "version": "3.8.5"
  }
 },
 "nbformat": 4,
 "nbformat_minor": 4
}
